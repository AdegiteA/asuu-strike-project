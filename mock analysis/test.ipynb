{
 "cells": [
  {
   "attachments": {},
   "cell_type": "markdown",
   "metadata": {},
   "source": [
    "# Mock Analysis\n",
    "\n",
    "This is a mock analysis of the ASUU Strike Project. This is to help us figure out what to do with the data and optimise the process."
   ]
  },
  {
   "attachments": {},
   "cell_type": "markdown",
   "metadata": {},
   "source": [
    "### Import packages"
   ]
  },
  {
   "cell_type": "code",
   "execution_count": 226,
   "metadata": {},
   "outputs": [],
   "source": [
    "import matplotlib.pyplot as plt\n",
    "import pandas as pd\n",
    "import numpy as np\n",
    "import seaborn as sns\n",
    "from sklearn.tree import DecisionTreeClassifier\n",
    "from sklearn.preprocessing import OneHotEncoder\n",
    "from sklearn.preprocessing import OrdinalEncoder\n",
    "from sklearn.pipeline import make_pipeline\n",
    "from sklearn.model_selection import train_test_split\n",
    "from sklearn.compose import ColumnTransformer\n",
    "from sklearn.linear_model import LinearRegression\n",
    "from sklearn.pipeline import Pipeline\n",
    "from sklearn.metrics import mean_squared_error"
   ]
  },
  {
   "attachments": {},
   "cell_type": "markdown",
   "metadata": {},
   "source": [
    "### Load data into dataframe"
   ]
  },
  {
   "cell_type": "code",
   "execution_count": 167,
   "metadata": {},
   "outputs": [
    {
     "data": {
      "text/html": [
       "<div>\n",
       "<style scoped>\n",
       "    .dataframe tbody tr th:only-of-type {\n",
       "        vertical-align: middle;\n",
       "    }\n",
       "\n",
       "    .dataframe tbody tr th {\n",
       "        vertical-align: top;\n",
       "    }\n",
       "\n",
       "    .dataframe thead th {\n",
       "        text-align: right;\n",
       "    }\n",
       "</style>\n",
       "<table border=\"1\" class=\"dataframe\">\n",
       "  <thead>\n",
       "    <tr style=\"text-align: right;\">\n",
       "      <th></th>\n",
       "      <th>Timestamp</th>\n",
       "      <th>Are you a student of UNILAG?</th>\n",
       "      <th>Current level of study \\n</th>\n",
       "      <th>How old are you?</th>\n",
       "      <th>What is your gender?</th>\n",
       "      <th>Marital  Status</th>\n",
       "      <th>What's your faculty?</th>\n",
       "      <th>What is your department?</th>\n",
       "      <th>How has the just concluded strike affected you ?</th>\n",
       "      <th>Did you acquire any skill relevant to your course of study?</th>\n",
       "      <th>...</th>\n",
       "      <th>How would you rate your preparation for the exams ? [After Strike]</th>\n",
       "      <th>How would you rate the quality of your lectures? [Before Strike]</th>\n",
       "      <th>How would you rate the quality of your lectures? [After Strike]</th>\n",
       "      <th>How confident are you in the significance of your academics [Before Strike]</th>\n",
       "      <th>How confident are you in the significance of your academics [After Strike]</th>\n",
       "      <th>What was your CGPA before the strike?</th>\n",
       "      <th>What is your current CGPA?\\nDon't be shy</th>\n",
       "      <th>Were you employed during the strike?</th>\n",
       "      <th>Did you quit the job when the strike was called-off</th>\n",
       "      <th>Would you like to be contacted for follow-up questions? If so, kindly drop your email.\\nOnly drop your email if you're comfortable doing so!</th>\n",
       "    </tr>\n",
       "  </thead>\n",
       "  <tbody>\n",
       "    <tr>\n",
       "      <th>0</th>\n",
       "      <td>2/9/2023 10:18:58</td>\n",
       "      <td>Yes</td>\n",
       "      <td>400level</td>\n",
       "      <td>22–24</td>\n",
       "      <td>Female</td>\n",
       "      <td>Single</td>\n",
       "      <td>Management Science</td>\n",
       "      <td>Finance</td>\n",
       "      <td>1. It has increased the amount of years I’m to...</td>\n",
       "      <td>Yes</td>\n",
       "      <td>...</td>\n",
       "      <td>Poor</td>\n",
       "      <td>Neutral</td>\n",
       "      <td>Poor</td>\n",
       "      <td>Good</td>\n",
       "      <td>Neutral</td>\n",
       "      <td>4.30</td>\n",
       "      <td>4.09</td>\n",
       "      <td>Yes</td>\n",
       "      <td>No</td>\n",
       "      <td>NaN</td>\n",
       "    </tr>\n",
       "    <tr>\n",
       "      <th>1</th>\n",
       "      <td>2/9/2023 10:39:25</td>\n",
       "      <td>Yes</td>\n",
       "      <td>300level</td>\n",
       "      <td>19–21</td>\n",
       "      <td>Male</td>\n",
       "      <td>Single</td>\n",
       "      <td>Science</td>\n",
       "      <td>Statistics</td>\n",
       "      <td>Positively</td>\n",
       "      <td>Yes</td>\n",
       "      <td>...</td>\n",
       "      <td>Good</td>\n",
       "      <td>Good</td>\n",
       "      <td>Good</td>\n",
       "      <td>Good</td>\n",
       "      <td>Good</td>\n",
       "      <td>4.51</td>\n",
       "      <td>4.51</td>\n",
       "      <td>Yes</td>\n",
       "      <td>No</td>\n",
       "      <td>NaN</td>\n",
       "    </tr>\n",
       "    <tr>\n",
       "      <th>2</th>\n",
       "      <td>2/9/2023 10:59:26</td>\n",
       "      <td>Yes</td>\n",
       "      <td>300level</td>\n",
       "      <td>25–27</td>\n",
       "      <td>Male</td>\n",
       "      <td>Single</td>\n",
       "      <td>Science</td>\n",
       "      <td>Botany</td>\n",
       "      <td>It has affected my reading culture and habits</td>\n",
       "      <td>Yes</td>\n",
       "      <td>...</td>\n",
       "      <td>Neutral</td>\n",
       "      <td>Neutral</td>\n",
       "      <td>Poor</td>\n",
       "      <td>Good</td>\n",
       "      <td>Neutral</td>\n",
       "      <td>4.09</td>\n",
       "      <td>4.08</td>\n",
       "      <td>No</td>\n",
       "      <td>No</td>\n",
       "      <td>NaN</td>\n",
       "    </tr>\n",
       "    <tr>\n",
       "      <th>3</th>\n",
       "      <td>2/9/2023 23:01:53</td>\n",
       "      <td>Yes</td>\n",
       "      <td>400level</td>\n",
       "      <td>22–24</td>\n",
       "      <td>Male</td>\n",
       "      <td>Single</td>\n",
       "      <td>Science</td>\n",
       "      <td>Geophysics</td>\n",
       "      <td>NIL</td>\n",
       "      <td>No</td>\n",
       "      <td>...</td>\n",
       "      <td>Neutral</td>\n",
       "      <td>Neutral</td>\n",
       "      <td>Poor</td>\n",
       "      <td>Neutral</td>\n",
       "      <td>Poor</td>\n",
       "      <td>3.88</td>\n",
       "      <td>3.56</td>\n",
       "      <td>No</td>\n",
       "      <td>No</td>\n",
       "      <td>NaN</td>\n",
       "    </tr>\n",
       "    <tr>\n",
       "      <th>4</th>\n",
       "      <td>2/9/2023 23:03:22</td>\n",
       "      <td>Yes</td>\n",
       "      <td>200level</td>\n",
       "      <td>16–18</td>\n",
       "      <td>Female</td>\n",
       "      <td>Married</td>\n",
       "      <td>Engineering</td>\n",
       "      <td>Civil Engineering</td>\n",
       "      <td>Made me a millionaire</td>\n",
       "      <td>No</td>\n",
       "      <td>...</td>\n",
       "      <td>Neutral</td>\n",
       "      <td>Neutral</td>\n",
       "      <td>Neutral</td>\n",
       "      <td>Neutral</td>\n",
       "      <td>Neutral</td>\n",
       "      <td>2.96</td>\n",
       "      <td>2.02</td>\n",
       "      <td>Yes</td>\n",
       "      <td>No</td>\n",
       "      <td>NaN</td>\n",
       "    </tr>\n",
       "  </tbody>\n",
       "</table>\n",
       "<p>5 rows × 22 columns</p>\n",
       "</div>"
      ],
      "text/plain": [
       "           Timestamp Are you a student of UNILAG? Current level of study \\n  \\\n",
       "0  2/9/2023 10:18:58                          Yes                  400level   \n",
       "1  2/9/2023 10:39:25                          Yes                  300level   \n",
       "2  2/9/2023 10:59:26                          Yes                  300level   \n",
       "3  2/9/2023 23:01:53                          Yes                  400level   \n",
       "4  2/9/2023 23:03:22                          Yes                  200level   \n",
       "\n",
       "  How old are you? What is your gender? Marital  Status What's your faculty?  \\\n",
       "0            22–24               Female          Single   Management Science   \n",
       "1            19–21                 Male          Single              Science   \n",
       "2            25–27                 Male          Single              Science   \n",
       "3            22–24                 Male          Single              Science   \n",
       "4            16–18               Female         Married          Engineering   \n",
       "\n",
       "  What is your department?   How has the just concluded strike affected you ?  \\\n",
       "0                 Finance   1. It has increased the amount of years I’m to...   \n",
       "1              Statistics                                         Positively    \n",
       "2                  Botany      It has affected my reading culture and habits    \n",
       "3              Geophysics                                                 NIL   \n",
       "4        Civil Engineering                              Made me a millionaire   \n",
       "\n",
       "  Did you acquire any skill relevant to your course of study?  ...  \\\n",
       "0                                                Yes           ...   \n",
       "1                                                Yes           ...   \n",
       "2                                                Yes           ...   \n",
       "3                                                 No           ...   \n",
       "4                                                 No           ...   \n",
       "\n",
       "  How would you rate your preparation for the exams ? [After Strike]  \\\n",
       "0                                               Poor                   \n",
       "1                                               Good                   \n",
       "2                                            Neutral                   \n",
       "3                                            Neutral                   \n",
       "4                                            Neutral                   \n",
       "\n",
       "  How would you rate the quality of your lectures? [Before Strike]  \\\n",
       "0                                            Neutral                 \n",
       "1                                               Good                 \n",
       "2                                            Neutral                 \n",
       "3                                            Neutral                 \n",
       "4                                            Neutral                 \n",
       "\n",
       "  How would you rate the quality of your lectures? [After Strike]  \\\n",
       "0                                               Poor                \n",
       "1                                               Good                \n",
       "2                                               Poor                \n",
       "3                                               Poor                \n",
       "4                                            Neutral                \n",
       "\n",
       "  How confident are you in the significance of your academics [Before Strike]  \\\n",
       "0                                               Good                            \n",
       "1                                               Good                            \n",
       "2                                               Good                            \n",
       "3                                            Neutral                            \n",
       "4                                            Neutral                            \n",
       "\n",
       "  How confident are you in the significance of your academics [After Strike]  \\\n",
       "0                                            Neutral                           \n",
       "1                                               Good                           \n",
       "2                                            Neutral                           \n",
       "3                                               Poor                           \n",
       "4                                            Neutral                           \n",
       "\n",
       "  What was your CGPA before the strike?  \\\n",
       "0                                  4.30   \n",
       "1                                  4.51   \n",
       "2                                  4.09   \n",
       "3                                  3.88   \n",
       "4                                  2.96   \n",
       "\n",
       "  What is your current CGPA?\\nDon't be shy  \\\n",
       "0                                     4.09   \n",
       "1                                     4.51   \n",
       "2                                     4.08   \n",
       "3                                     3.56   \n",
       "4                                     2.02   \n",
       "\n",
       "   Were you employed during the strike?  \\\n",
       "0                                   Yes   \n",
       "1                                   Yes   \n",
       "2                                    No   \n",
       "3                                    No   \n",
       "4                                   Yes   \n",
       "\n",
       "   Did you quit the job when the strike was called-off  \\\n",
       "0                                                 No     \n",
       "1                                                 No     \n",
       "2                                                 No     \n",
       "3                                                 No     \n",
       "4                                                 No     \n",
       "\n",
       "  Would you like to be contacted for follow-up questions? If so, kindly drop your email.\\nOnly drop your email if you're comfortable doing so!  \n",
       "0                                                NaN                                                                                            \n",
       "1                                                NaN                                                                                            \n",
       "2                                                NaN                                                                                            \n",
       "3                                                NaN                                                                                            \n",
       "4                                                NaN                                                                                            \n",
       "\n",
       "[5 rows x 22 columns]"
      ]
     },
     "execution_count": 167,
     "metadata": {},
     "output_type": "execute_result"
    }
   ],
   "source": [
    "sample_df = pd.read_csv(\"sample.csv\")\n",
    "\n",
    "sample_df.head()"
   ]
  },
  {
   "cell_type": "code",
   "execution_count": 168,
   "metadata": {},
   "outputs": [
    {
     "name": "stdout",
     "output_type": "stream",
     "text": [
      "<class 'pandas.core.frame.DataFrame'>\n",
      "RangeIndex: 14 entries, 0 to 13\n",
      "Data columns (total 22 columns):\n",
      " #   Column                                                                                                                                       Non-Null Count  Dtype  \n",
      "---  ------                                                                                                                                       --------------  -----  \n",
      " 0   Timestamp                                                                                                                                    14 non-null     object \n",
      " 1   Are you a student of UNILAG?                                                                                                                 14 non-null     object \n",
      " 2   Current level of study \n",
      "                                                                                                                     14 non-null     object \n",
      " 3   How old are you?                                                                                                                             14 non-null     object \n",
      " 4   What is your gender?                                                                                                                         14 non-null     object \n",
      " 5   Marital  Status                                                                                                                              14 non-null     object \n",
      " 6   What's your faculty?                                                                                                                         14 non-null     object \n",
      " 7   What is your department?                                                                                                                     14 non-null     object \n",
      " 8   How has the just concluded strike affected you ?                                                                                             14 non-null     object \n",
      " 9   Did you acquire any skill relevant to your course of study?                                                                                  14 non-null     object \n",
      " 10  What challenges did you experience during resumption after the long strike?                                                                  14 non-null     object \n",
      " 11  How would you rate your preparation for the exams ? [Before Strike]                                                                          14 non-null     object \n",
      " 12  How would you rate your preparation for the exams ? [After Strike]                                                                           14 non-null     object \n",
      " 13  How would you rate the quality of your lectures? [Before Strike]                                                                             14 non-null     object \n",
      " 14  How would you rate the quality of your lectures? [After Strike]                                                                              14 non-null     object \n",
      " 15  How confident are you in the significance of your academics [Before Strike]                                                                  14 non-null     object \n",
      " 16  How confident are you in the significance of your academics [After Strike]                                                                   14 non-null     object \n",
      " 17  What was your CGPA before the strike?                                                                                                        14 non-null     float64\n",
      " 18  What is your current CGPA?\n",
      "Don't be shy                                                                                                      14 non-null     float64\n",
      " 19  Were you employed during the strike?                                                                                                         14 non-null     object \n",
      " 20  Did you quit the job when the strike was called-off                                                                                          14 non-null     object \n",
      " 21  Would you like to be contacted for follow-up questions? If so, kindly drop your email.\n",
      "Only drop your email if you're comfortable doing so!  4 non-null      object \n",
      "dtypes: float64(2), object(20)\n",
      "memory usage: 2.5+ KB\n"
     ]
    }
   ],
   "source": [
    "sample_df.info()"
   ]
  },
  {
   "attachments": {},
   "cell_type": "markdown",
   "metadata": {},
   "source": [
    "## Clean data"
   ]
  },
  {
   "attachments": {},
   "cell_type": "markdown",
   "metadata": {},
   "source": [
    "Drop all non-UNILAG students"
   ]
  },
  {
   "cell_type": "code",
   "execution_count": 169,
   "metadata": {},
   "outputs": [],
   "source": [
    "sample_df = sample_df[sample_df[\"Are you a student of UNILAG?\"] == \"Yes\"]"
   ]
  },
  {
   "attachments": {},
   "cell_type": "markdown",
   "metadata": {},
   "source": [
    "Drop unrequired columns"
   ]
  },
  {
   "cell_type": "code",
   "execution_count": 170,
   "metadata": {},
   "outputs": [
    {
     "name": "stdout",
     "output_type": "stream",
     "text": [
      "<class 'pandas.core.frame.DataFrame'>\n",
      "Int64Index: 13 entries, 0 to 13\n",
      "Data columns (total 17 columns):\n",
      " #   Column                                                                       Non-Null Count  Dtype  \n",
      "---  ------                                                                       --------------  -----  \n",
      " 0   Current level of study \n",
      "                                                     13 non-null     object \n",
      " 1   How old are you?                                                             13 non-null     object \n",
      " 2   What is your gender?                                                         13 non-null     object \n",
      " 3   Marital  Status                                                              13 non-null     object \n",
      " 4   What's your faculty?                                                         13 non-null     object \n",
      " 5   What is your department?                                                     13 non-null     object \n",
      " 6   Did you acquire any skill relevant to your course of study?                  13 non-null     object \n",
      " 7   How would you rate your preparation for the exams ? [Before Strike]          13 non-null     object \n",
      " 8   How would you rate your preparation for the exams ? [After Strike]           13 non-null     object \n",
      " 9   How would you rate the quality of your lectures? [Before Strike]             13 non-null     object \n",
      " 10  How would you rate the quality of your lectures? [After Strike]              13 non-null     object \n",
      " 11  How confident are you in the significance of your academics [Before Strike]  13 non-null     object \n",
      " 12  How confident are you in the significance of your academics [After Strike]   13 non-null     object \n",
      " 13  What was your CGPA before the strike?                                        13 non-null     float64\n",
      " 14  What is your current CGPA?\n",
      "Don't be shy                                      13 non-null     float64\n",
      " 15  Were you employed during the strike?                                         13 non-null     object \n",
      " 16  Did you quit the job when the strike was called-off                          13 non-null     object \n",
      "dtypes: float64(2), object(15)\n",
      "memory usage: 1.8+ KB\n"
     ]
    }
   ],
   "source": [
    "cols_to_drop = [\"Timestamp\", \n",
    "                \"Are you a student of UNILAG?\",\n",
    "                \"How has the just concluded strike affected you ?\",\n",
    "                \"What challenges did you experience during resumption after the long strike?\",\n",
    "                \"Would you like to be contacted for follow-up questions? If so, kindly drop your email.\\nOnly drop your email if you're comfortable doing so!\",\n",
    "                ]\n",
    "sample_df.drop(columns=cols_to_drop, axis=1, inplace=True)\n",
    "sample_df.info()"
   ]
  },
  {
   "attachments": {},
   "cell_type": "markdown",
   "metadata": {},
   "source": [
    "Rename columns"
   ]
  },
  {
   "cell_type": "code",
   "execution_count": 171,
   "metadata": {},
   "outputs": [
    {
     "data": {
      "text/html": [
       "<div>\n",
       "<style scoped>\n",
       "    .dataframe tbody tr th:only-of-type {\n",
       "        vertical-align: middle;\n",
       "    }\n",
       "\n",
       "    .dataframe tbody tr th {\n",
       "        vertical-align: top;\n",
       "    }\n",
       "\n",
       "    .dataframe thead th {\n",
       "        text-align: right;\n",
       "    }\n",
       "</style>\n",
       "<table border=\"1\" class=\"dataframe\">\n",
       "  <thead>\n",
       "    <tr style=\"text-align: right;\">\n",
       "      <th></th>\n",
       "      <th>level</th>\n",
       "      <th>age</th>\n",
       "      <th>gender</th>\n",
       "      <th>marital_status</th>\n",
       "      <th>faculty</th>\n",
       "      <th>department</th>\n",
       "      <th>skill</th>\n",
       "      <th>prep_before</th>\n",
       "      <th>prep_after</th>\n",
       "      <th>quality_before</th>\n",
       "      <th>quality_after</th>\n",
       "      <th>confidence_before</th>\n",
       "      <th>confidence_after</th>\n",
       "      <th>cgpa_before</th>\n",
       "      <th>cgpa_after</th>\n",
       "      <th>employment</th>\n",
       "      <th>quit_job</th>\n",
       "    </tr>\n",
       "  </thead>\n",
       "  <tbody>\n",
       "    <tr>\n",
       "      <th>0</th>\n",
       "      <td>400level</td>\n",
       "      <td>22–24</td>\n",
       "      <td>Female</td>\n",
       "      <td>Single</td>\n",
       "      <td>Management Science</td>\n",
       "      <td>Finance</td>\n",
       "      <td>Yes</td>\n",
       "      <td>Neutral</td>\n",
       "      <td>Poor</td>\n",
       "      <td>Neutral</td>\n",
       "      <td>Poor</td>\n",
       "      <td>Good</td>\n",
       "      <td>Neutral</td>\n",
       "      <td>4.30</td>\n",
       "      <td>4.09</td>\n",
       "      <td>Yes</td>\n",
       "      <td>No</td>\n",
       "    </tr>\n",
       "    <tr>\n",
       "      <th>1</th>\n",
       "      <td>300level</td>\n",
       "      <td>19–21</td>\n",
       "      <td>Male</td>\n",
       "      <td>Single</td>\n",
       "      <td>Science</td>\n",
       "      <td>Statistics</td>\n",
       "      <td>Yes</td>\n",
       "      <td>Good</td>\n",
       "      <td>Good</td>\n",
       "      <td>Good</td>\n",
       "      <td>Good</td>\n",
       "      <td>Good</td>\n",
       "      <td>Good</td>\n",
       "      <td>4.51</td>\n",
       "      <td>4.51</td>\n",
       "      <td>Yes</td>\n",
       "      <td>No</td>\n",
       "    </tr>\n",
       "    <tr>\n",
       "      <th>2</th>\n",
       "      <td>300level</td>\n",
       "      <td>25–27</td>\n",
       "      <td>Male</td>\n",
       "      <td>Single</td>\n",
       "      <td>Science</td>\n",
       "      <td>Botany</td>\n",
       "      <td>Yes</td>\n",
       "      <td>Good</td>\n",
       "      <td>Neutral</td>\n",
       "      <td>Neutral</td>\n",
       "      <td>Poor</td>\n",
       "      <td>Good</td>\n",
       "      <td>Neutral</td>\n",
       "      <td>4.09</td>\n",
       "      <td>4.08</td>\n",
       "      <td>No</td>\n",
       "      <td>No</td>\n",
       "    </tr>\n",
       "    <tr>\n",
       "      <th>3</th>\n",
       "      <td>400level</td>\n",
       "      <td>22–24</td>\n",
       "      <td>Male</td>\n",
       "      <td>Single</td>\n",
       "      <td>Science</td>\n",
       "      <td>Geophysics</td>\n",
       "      <td>No</td>\n",
       "      <td>Poor</td>\n",
       "      <td>Neutral</td>\n",
       "      <td>Neutral</td>\n",
       "      <td>Poor</td>\n",
       "      <td>Neutral</td>\n",
       "      <td>Poor</td>\n",
       "      <td>3.88</td>\n",
       "      <td>3.56</td>\n",
       "      <td>No</td>\n",
       "      <td>No</td>\n",
       "    </tr>\n",
       "    <tr>\n",
       "      <th>4</th>\n",
       "      <td>200level</td>\n",
       "      <td>16–18</td>\n",
       "      <td>Female</td>\n",
       "      <td>Married</td>\n",
       "      <td>Engineering</td>\n",
       "      <td>Civil Engineering</td>\n",
       "      <td>No</td>\n",
       "      <td>Neutral</td>\n",
       "      <td>Neutral</td>\n",
       "      <td>Neutral</td>\n",
       "      <td>Neutral</td>\n",
       "      <td>Neutral</td>\n",
       "      <td>Neutral</td>\n",
       "      <td>2.96</td>\n",
       "      <td>2.02</td>\n",
       "      <td>Yes</td>\n",
       "      <td>No</td>\n",
       "    </tr>\n",
       "  </tbody>\n",
       "</table>\n",
       "</div>"
      ],
      "text/plain": [
       "      level    age  gender marital_status             faculty  \\\n",
       "0  400level  22–24  Female         Single  Management Science   \n",
       "1  300level  19–21    Male         Single             Science   \n",
       "2  300level  25–27    Male         Single             Science   \n",
       "3  400level  22–24    Male         Single             Science   \n",
       "4  200level  16–18  Female        Married         Engineering   \n",
       "\n",
       "          department skill prep_before prep_after quality_before  \\\n",
       "0           Finance    Yes     Neutral       Poor        Neutral   \n",
       "1        Statistics    Yes        Good       Good           Good   \n",
       "2            Botany    Yes        Good    Neutral        Neutral   \n",
       "3        Geophysics     No        Poor    Neutral        Neutral   \n",
       "4  Civil Engineering    No     Neutral    Neutral        Neutral   \n",
       "\n",
       "  quality_after confidence_before confidence_after  cgpa_before  cgpa_after  \\\n",
       "0          Poor              Good          Neutral         4.30        4.09   \n",
       "1          Good              Good             Good         4.51        4.51   \n",
       "2          Poor              Good          Neutral         4.09        4.08   \n",
       "3          Poor           Neutral             Poor         3.88        3.56   \n",
       "4       Neutral           Neutral          Neutral         2.96        2.02   \n",
       "\n",
       "  employment quit_job  \n",
       "0        Yes       No  \n",
       "1        Yes       No  \n",
       "2         No       No  \n",
       "3         No       No  \n",
       "4        Yes       No  "
      ]
     },
     "execution_count": 171,
     "metadata": {},
     "output_type": "execute_result"
    }
   ],
   "source": [
    "new_col_names = [\n",
    "    \"level\", \"age\", \"gender\", \"marital_status\", \"faculty\", \"department\", \"skill\", \"prep_before\", \"prep_after\", \n",
    "    \"quality_before\", \"quality_after\", \"confidence_before\", \"confidence_after\", \n",
    "    \"cgpa_before\", \"cgpa_after\", \"employment\", \"quit_job\"\n",
    "]\n",
    "\n",
    "sample_df.columns = new_col_names\n",
    "\n",
    "sample_df.head()"
   ]
  },
  {
   "attachments": {},
   "cell_type": "markdown",
   "metadata": {},
   "source": [
    "**Remove Outliers**\n",
    "\n",
    "Ouliers include all 100 Level students, as they have nothing to compare against. Some students might have entered wrong values for CGPA. Take note of that as well."
   ]
  },
  {
   "cell_type": "code",
   "execution_count": 172,
   "metadata": {},
   "outputs": [
    {
     "data": {
      "text/html": [
       "<div>\n",
       "<style scoped>\n",
       "    .dataframe tbody tr th:only-of-type {\n",
       "        vertical-align: middle;\n",
       "    }\n",
       "\n",
       "    .dataframe tbody tr th {\n",
       "        vertical-align: top;\n",
       "    }\n",
       "\n",
       "    .dataframe thead th {\n",
       "        text-align: right;\n",
       "    }\n",
       "</style>\n",
       "<table border=\"1\" class=\"dataframe\">\n",
       "  <thead>\n",
       "    <tr style=\"text-align: right;\">\n",
       "      <th></th>\n",
       "      <th>cgpa_before</th>\n",
       "      <th>cgpa_after</th>\n",
       "    </tr>\n",
       "  </thead>\n",
       "  <tbody>\n",
       "    <tr>\n",
       "      <th>count</th>\n",
       "      <td>11.000000</td>\n",
       "      <td>11.000000</td>\n",
       "    </tr>\n",
       "    <tr>\n",
       "      <th>mean</th>\n",
       "      <td>3.999091</td>\n",
       "      <td>3.820909</td>\n",
       "    </tr>\n",
       "    <tr>\n",
       "      <th>std</th>\n",
       "      <td>0.557018</td>\n",
       "      <td>0.807235</td>\n",
       "    </tr>\n",
       "    <tr>\n",
       "      <th>min</th>\n",
       "      <td>2.960000</td>\n",
       "      <td>2.020000</td>\n",
       "    </tr>\n",
       "    <tr>\n",
       "      <th>25%</th>\n",
       "      <td>3.640000</td>\n",
       "      <td>3.580000</td>\n",
       "    </tr>\n",
       "    <tr>\n",
       "      <th>50%</th>\n",
       "      <td>4.090000</td>\n",
       "      <td>4.080000</td>\n",
       "    </tr>\n",
       "    <tr>\n",
       "      <th>75%</th>\n",
       "      <td>4.390000</td>\n",
       "      <td>4.295000</td>\n",
       "    </tr>\n",
       "    <tr>\n",
       "      <th>max</th>\n",
       "      <td>4.710000</td>\n",
       "      <td>4.790000</td>\n",
       "    </tr>\n",
       "  </tbody>\n",
       "</table>\n",
       "</div>"
      ],
      "text/plain": [
       "       cgpa_before  cgpa_after\n",
       "count    11.000000   11.000000\n",
       "mean      3.999091    3.820909\n",
       "std       0.557018    0.807235\n",
       "min       2.960000    2.020000\n",
       "25%       3.640000    3.580000\n",
       "50%       4.090000    4.080000\n",
       "75%       4.390000    4.295000\n",
       "max       4.710000    4.790000"
      ]
     },
     "execution_count": 172,
     "metadata": {},
     "output_type": "execute_result"
    }
   ],
   "source": [
    "# remove 100 level students\n",
    "sample_df = sample_df[sample_df[\"level\"]!=\"100level\"]\n",
    "\n",
    "# remove outliers (CGPA = 0)\n",
    "sample_df = sample_df[\n",
    "    (sample_df[\"cgpa_before\"]>0) & (sample_df[\"cgpa_after\"]>0)\n",
    "    ]\n",
    "sample_df.describe()"
   ]
  },
  {
   "attachments": {},
   "cell_type": "markdown",
   "metadata": {},
   "source": [
    "Expand Dataframe to Simulate Target Reach **[Test Only]**"
   ]
  },
  {
   "cell_type": "code",
   "execution_count": 173,
   "metadata": {},
   "outputs": [],
   "source": [
    "# expand dataframe to simulate 2000 respondents\n",
    "new_sample = pd.concat([sample_df]*200, ignore_index=True)\n",
    "\n",
    "\n",
    "# Predict random CGPA values for richer data\n",
    "# Subtracted 0.5 from std to ensure no values above 5.0 in CGPA\n",
    "\n",
    "std_before = new_sample.cgpa_before.std() - 0.5 \n",
    "std_after = new_sample.cgpa_after.std() - 0.5\n",
    "mean_before = new_sample.cgpa_before.mean()\n",
    "mean_after = new_sample.cgpa_after.mean()\n",
    "\n",
    "np.random.seed(21)\n",
    "\n",
    "new_sample[\"cgpa_before\"] = np.random.normal(mean_before, std_before, size=len(new_sample))\n",
    "new_sample[\"cgpa_after\"] = np.random.normal(mean_after, std_after, size=len(new_sample))"
   ]
  },
  {
   "attachments": {},
   "cell_type": "markdown",
   "metadata": {},
   "source": [
    "Compute target variable"
   ]
  },
  {
   "cell_type": "code",
   "execution_count": 174,
   "metadata": {},
   "outputs": [
    {
     "data": {
      "text/html": [
       "<div>\n",
       "<style scoped>\n",
       "    .dataframe tbody tr th:only-of-type {\n",
       "        vertical-align: middle;\n",
       "    }\n",
       "\n",
       "    .dataframe tbody tr th {\n",
       "        vertical-align: top;\n",
       "    }\n",
       "\n",
       "    .dataframe thead th {\n",
       "        text-align: right;\n",
       "    }\n",
       "</style>\n",
       "<table border=\"1\" class=\"dataframe\">\n",
       "  <thead>\n",
       "    <tr style=\"text-align: right;\">\n",
       "      <th></th>\n",
       "      <th>cgpa_before</th>\n",
       "      <th>cgpa_after</th>\n",
       "      <th>cgpa_change</th>\n",
       "    </tr>\n",
       "  </thead>\n",
       "  <tbody>\n",
       "    <tr>\n",
       "      <th>count</th>\n",
       "      <td>2200.000000</td>\n",
       "      <td>2200.000000</td>\n",
       "      <td>2200.000000</td>\n",
       "    </tr>\n",
       "    <tr>\n",
       "      <th>mean</th>\n",
       "      <td>3.998783</td>\n",
       "      <td>3.834110</td>\n",
       "      <td>-0.164673</td>\n",
       "    </tr>\n",
       "    <tr>\n",
       "      <th>std</th>\n",
       "      <td>0.031280</td>\n",
       "      <td>0.266917</td>\n",
       "      <td>0.267867</td>\n",
       "    </tr>\n",
       "    <tr>\n",
       "      <th>min</th>\n",
       "      <td>3.878830</td>\n",
       "      <td>2.824106</td>\n",
       "      <td>-1.204614</td>\n",
       "    </tr>\n",
       "    <tr>\n",
       "      <th>25%</th>\n",
       "      <td>3.977428</td>\n",
       "      <td>3.652785</td>\n",
       "      <td>-0.349770</td>\n",
       "    </tr>\n",
       "    <tr>\n",
       "      <th>50%</th>\n",
       "      <td>3.998953</td>\n",
       "      <td>3.831117</td>\n",
       "      <td>-0.172139</td>\n",
       "    </tr>\n",
       "    <tr>\n",
       "      <th>75%</th>\n",
       "      <td>4.019398</td>\n",
       "      <td>4.007192</td>\n",
       "      <td>0.005840</td>\n",
       "    </tr>\n",
       "    <tr>\n",
       "      <th>max</th>\n",
       "      <td>4.120521</td>\n",
       "      <td>4.772331</td>\n",
       "      <td>0.785492</td>\n",
       "    </tr>\n",
       "  </tbody>\n",
       "</table>\n",
       "</div>"
      ],
      "text/plain": [
       "       cgpa_before   cgpa_after  cgpa_change\n",
       "count  2200.000000  2200.000000  2200.000000\n",
       "mean      3.998783     3.834110    -0.164673\n",
       "std       0.031280     0.266917     0.267867\n",
       "min       3.878830     2.824106    -1.204614\n",
       "25%       3.977428     3.652785    -0.349770\n",
       "50%       3.998953     3.831117    -0.172139\n",
       "75%       4.019398     4.007192     0.005840\n",
       "max       4.120521     4.772331     0.785492"
      ]
     },
     "execution_count": 174,
     "metadata": {},
     "output_type": "execute_result"
    }
   ],
   "source": [
    "new_sample[\"cgpa_change\"] = new_sample[\"cgpa_after\"] - new_sample[\"cgpa_before\"]\n",
    "new_sample.describe()"
   ]
  },
  {
   "attachments": {},
   "cell_type": "markdown",
   "metadata": {},
   "source": [
    "## Exploratory Data Analysis"
   ]
  },
  {
   "cell_type": "code",
   "execution_count": 175,
   "metadata": {},
   "outputs": [],
   "source": [
    "sns.set_palette(\"pastel\")"
   ]
  },
  {
   "attachments": {},
   "cell_type": "markdown",
   "metadata": {},
   "source": [
    "How vdjjbjdnjdknkdnkdmdl"
   ]
  },
  {
   "cell_type": "code",
   "execution_count": 176,
   "metadata": {},
   "outputs": [
    {
     "data": {
      "text/html": [
       "<div>\n",
       "<style scoped>\n",
       "    .dataframe tbody tr th:only-of-type {\n",
       "        vertical-align: middle;\n",
       "    }\n",
       "\n",
       "    .dataframe tbody tr th {\n",
       "        vertical-align: top;\n",
       "    }\n",
       "\n",
       "    .dataframe thead th {\n",
       "        text-align: right;\n",
       "    }\n",
       "</style>\n",
       "<table border=\"1\" class=\"dataframe\">\n",
       "  <thead>\n",
       "    <tr style=\"text-align: right;\">\n",
       "      <th></th>\n",
       "      <th>level</th>\n",
       "      <th>age</th>\n",
       "      <th>gender</th>\n",
       "      <th>marital_status</th>\n",
       "      <th>faculty</th>\n",
       "      <th>department</th>\n",
       "      <th>skill</th>\n",
       "      <th>prep_before</th>\n",
       "      <th>prep_after</th>\n",
       "      <th>quality_before</th>\n",
       "      <th>quality_after</th>\n",
       "      <th>confidence_before</th>\n",
       "      <th>confidence_after</th>\n",
       "      <th>cgpa_before</th>\n",
       "      <th>cgpa_after</th>\n",
       "      <th>employment</th>\n",
       "      <th>quit_job</th>\n",
       "      <th>cgpa_change</th>\n",
       "    </tr>\n",
       "  </thead>\n",
       "  <tbody>\n",
       "    <tr>\n",
       "      <th>0</th>\n",
       "      <td>400level</td>\n",
       "      <td>22–24</td>\n",
       "      <td>Female</td>\n",
       "      <td>Single</td>\n",
       "      <td>Management Science</td>\n",
       "      <td>Finance</td>\n",
       "      <td>Yes</td>\n",
       "      <td>Neutral</td>\n",
       "      <td>Poor</td>\n",
       "      <td>Neutral</td>\n",
       "      <td>Poor</td>\n",
       "      <td>Good</td>\n",
       "      <td>Neutral</td>\n",
       "      <td>3.997469</td>\n",
       "      <td>3.919087</td>\n",
       "      <td>Yes</td>\n",
       "      <td>No</td>\n",
       "      <td>-0.078382</td>\n",
       "    </tr>\n",
       "    <tr>\n",
       "      <th>1</th>\n",
       "      <td>300level</td>\n",
       "      <td>19–21</td>\n",
       "      <td>Male</td>\n",
       "      <td>Single</td>\n",
       "      <td>Science</td>\n",
       "      <td>Statistics</td>\n",
       "      <td>Yes</td>\n",
       "      <td>Good</td>\n",
       "      <td>Good</td>\n",
       "      <td>Good</td>\n",
       "      <td>Good</td>\n",
       "      <td>Good</td>\n",
       "      <td>Good</td>\n",
       "      <td>3.995620</td>\n",
       "      <td>3.968665</td>\n",
       "      <td>Yes</td>\n",
       "      <td>No</td>\n",
       "      <td>-0.026955</td>\n",
       "    </tr>\n",
       "    <tr>\n",
       "      <th>2</th>\n",
       "      <td>300level</td>\n",
       "      <td>25–27</td>\n",
       "      <td>Male</td>\n",
       "      <td>Single</td>\n",
       "      <td>Science</td>\n",
       "      <td>Botany</td>\n",
       "      <td>Yes</td>\n",
       "      <td>Good</td>\n",
       "      <td>Neutral</td>\n",
       "      <td>Neutral</td>\n",
       "      <td>Poor</td>\n",
       "      <td>Good</td>\n",
       "      <td>Neutral</td>\n",
       "      <td>4.031612</td>\n",
       "      <td>3.585951</td>\n",
       "      <td>No</td>\n",
       "      <td>No</td>\n",
       "      <td>-0.445661</td>\n",
       "    </tr>\n",
       "    <tr>\n",
       "      <th>3</th>\n",
       "      <td>400level</td>\n",
       "      <td>22–24</td>\n",
       "      <td>Male</td>\n",
       "      <td>Single</td>\n",
       "      <td>Science</td>\n",
       "      <td>Geophysics</td>\n",
       "      <td>No</td>\n",
       "      <td>Poor</td>\n",
       "      <td>Neutral</td>\n",
       "      <td>Neutral</td>\n",
       "      <td>Poor</td>\n",
       "      <td>Neutral</td>\n",
       "      <td>Poor</td>\n",
       "      <td>3.959860</td>\n",
       "      <td>4.051120</td>\n",
       "      <td>No</td>\n",
       "      <td>No</td>\n",
       "      <td>0.091260</td>\n",
       "    </tr>\n",
       "    <tr>\n",
       "      <th>4</th>\n",
       "      <td>200level</td>\n",
       "      <td>16–18</td>\n",
       "      <td>Female</td>\n",
       "      <td>Married</td>\n",
       "      <td>Engineering</td>\n",
       "      <td>Civil Engineering</td>\n",
       "      <td>No</td>\n",
       "      <td>Neutral</td>\n",
       "      <td>Neutral</td>\n",
       "      <td>Neutral</td>\n",
       "      <td>Neutral</td>\n",
       "      <td>Neutral</td>\n",
       "      <td>Neutral</td>\n",
       "      <td>4.022359</td>\n",
       "      <td>3.777755</td>\n",
       "      <td>Yes</td>\n",
       "      <td>No</td>\n",
       "      <td>-0.244605</td>\n",
       "    </tr>\n",
       "  </tbody>\n",
       "</table>\n",
       "</div>"
      ],
      "text/plain": [
       "      level    age  gender marital_status             faculty  \\\n",
       "0  400level  22–24  Female         Single  Management Science   \n",
       "1  300level  19–21    Male         Single             Science   \n",
       "2  300level  25–27    Male         Single             Science   \n",
       "3  400level  22–24    Male         Single             Science   \n",
       "4  200level  16–18  Female        Married         Engineering   \n",
       "\n",
       "          department skill prep_before prep_after quality_before  \\\n",
       "0           Finance    Yes     Neutral       Poor        Neutral   \n",
       "1        Statistics    Yes        Good       Good           Good   \n",
       "2            Botany    Yes        Good    Neutral        Neutral   \n",
       "3        Geophysics     No        Poor    Neutral        Neutral   \n",
       "4  Civil Engineering    No     Neutral    Neutral        Neutral   \n",
       "\n",
       "  quality_after confidence_before confidence_after  cgpa_before  cgpa_after  \\\n",
       "0          Poor              Good          Neutral     3.997469    3.919087   \n",
       "1          Good              Good             Good     3.995620    3.968665   \n",
       "2          Poor              Good          Neutral     4.031612    3.585951   \n",
       "3          Poor           Neutral             Poor     3.959860    4.051120   \n",
       "4       Neutral           Neutral          Neutral     4.022359    3.777755   \n",
       "\n",
       "  employment quit_job  cgpa_change  \n",
       "0        Yes       No    -0.078382  \n",
       "1        Yes       No    -0.026955  \n",
       "2         No       No    -0.445661  \n",
       "3         No       No     0.091260  \n",
       "4        Yes       No    -0.244605  "
      ]
     },
     "execution_count": 176,
     "metadata": {},
     "output_type": "execute_result"
    }
   ],
   "source": [
    "new_sample.head()"
   ]
  },
  {
   "attachments": {},
   "cell_type": "markdown",
   "metadata": {},
   "source": [
    "How did CGPA distribution change before and after the strike?"
   ]
  },
  {
   "cell_type": "code",
   "execution_count": 177,
   "metadata": {},
   "outputs": [
    {
     "data": {
      "image/png": "[encoded data removed]",
      "text/plain": [
       "<Figure size 640x480 with 2 Axes>"
      ]
     },
     "metadata": {},
     "output_type": "display_data"
    }
   ],
   "source": [
    "fig, ax = plt.subplots(1, 2)\n",
    "new_sample.cgpa_before.plot(kind=\"hist\", ax=ax[0], title=\"CGPA Before\")\n",
    "ax[0].axvline(mean_before, color=\"orange\", linestyle=\"--\")\n",
    "\n",
    "new_sample.cgpa_after.plot(kind=\"hist\", ax=ax[1], title=\"CGPA After\", sharey=True)\n",
    "ax[1].axvline(mean_after, color=\"orange\", linestyle=\"--\")\n",
    "\n",
    "plt.suptitle(\"Distribution of CGPA Before and After Strike\");"
   ]
  },
  {
   "attachments": {},
   "cell_type": "markdown",
   "metadata": {},
   "source": [
    "How does this change for male and female students?"
   ]
  },
  {
   "cell_type": "code",
   "execution_count": 178,
   "metadata": {},
   "outputs": [
    {
     "data": {
      "image/png": "[encoded data removed]",
      "text/plain": [
       "<Figure size 640x480 with 1 Axes>"
      ]
     },
     "metadata": {},
     "output_type": "display_data"
    }
   ],
   "source": [
    "new_sample.groupby(\"gender\").mean().cgpa_change.plot(kind=\"bar\")\n",
    "plt.title(\"Average CGPA for Male and Female Students Before and After Strike\")\n",
    "plt.xlabel(\"Gender\")\n",
    "plt.ylabel(\"CGPA\");"
   ]
  },
  {
   "attachments": {},
   "cell_type": "markdown",
   "metadata": {},
   "source": [
    "Did employed students struggle more?"
   ]
  },
  {
   "cell_type": "code",
   "execution_count": 179,
   "metadata": {},
   "outputs": [
    {
     "data": {
      "image/png": "[encoded data removed]",
      "text/plain": [
       "<Figure size 640x480 with 1 Axes>"
      ]
     },
     "metadata": {},
     "output_type": "display_data"
    }
   ],
   "source": [
    "new_sample.groupby(\"employment\").mean().cgpa_change.plot(kind=\"bar\");"
   ]
  },
  {
   "cell_type": "code",
   "execution_count": 180,
   "metadata": {},
   "outputs": [
    {
     "data": {
      "image/png": "[encoded data removed]",
      "text/plain": [
       "<Figure size 640x480 with 1 Axes>"
      ]
     },
     "metadata": {},
     "output_type": "display_data"
    }
   ],
   "source": [
    "new_sample.groupby(\"age\").mean().cgpa_change.plot(kind=\"bar\")\n",
    "plt.title(\"Average CGPA for Different Age Groups\")\n",
    "plt.xlabel(\"Age\")\n",
    "plt.ylabel(\"CGPA\");"
   ]
  },
  {
   "attachments": {},
   "cell_type": "markdown",
   "metadata": {},
   "source": [
    "## Build Model"
   ]
  },
  {
   "cell_type": "code",
   "execution_count": 196,
   "metadata": {},
   "outputs": [],
   "source": [
    "df = new_sample.drop(columns=[\"cgpa_before\", \"cgpa_after\"])"
   ]
  },
  {
   "attachments": {},
   "cell_type": "markdown",
   "metadata": {},
   "source": [
    "#### Linear Regression"
   ]
  },
  {
   "cell_type": "code",
   "execution_count": 203,
   "metadata": {},
   "outputs": [],
   "source": [
    "# One-hot encode categorical features\n",
    "encoder = OneHotEncoder()\n",
    "encoded_df = encoder.fit_transform(df.drop(columns=\"cgpa_change\"))\n",
    "encoded_df = pd.DataFrame(encoded_df.toarray(), columns=encoder.get_feature_names_out(df.drop(columns=\"cgpa_change\").columns))\n",
    "df = pd.concat([df, encoded_df], axis=1)"
   ]
  },
  {
   "attachments": {},
   "cell_type": "markdown",
   "metadata": {},
   "source": [
    "#### Select features and target"
   ]
  },
  {
   "cell_type": "code",
   "execution_count": 209,
   "metadata": {},
   "outputs": [],
   "source": [
    "target = \"cgpa_change\"\n",
    "X = df.drop(columns=target)\n",
    "y = df[target]"
   ]
  },
  {
   "attachments": {},
   "cell_type": "markdown",
   "metadata": {},
   "source": [
    "Split data into test and training sets"
   ]
  },
  {
   "cell_type": "code",
   "execution_count": 205,
   "metadata": {},
   "outputs": [],
   "source": [
    "X_train, X_test, y_train, y_test = train_test_split(X, y, test_size=0.2, random_state=42)"
   ]
  },
  {
   "attachments": {},
   "cell_type": "markdown",
   "metadata": {},
   "source": [
    "Split training data into training and validation data"
   ]
  },
  {
   "cell_type": "code",
   "execution_count": 206,
   "metadata": {},
   "outputs": [],
   "source": [
    "X_train, X_val, y_train, y_val = train_test_split(\n",
    "        X_train, y_train, test_size=0.2, random_state=42\n",
    ")"
   ]
  },
  {
   "attachments": {},
   "cell_type": "markdown",
   "metadata": {},
   "source": [
    "Make pipeline"
   ]
  },
  {
   "cell_type": "code",
   "execution_count": 211,
   "metadata": {},
   "outputs": [],
   "source": [
    "# create the column transformer to one-hot encode the categorical features\n",
    "categorical_features = X.columns\n",
    "preprocessor = ColumnTransformer(\n",
    "    transformers=[('cat', OneHotEncoder(), categorical_features)], remainder='passthrough')"
   ]
  },
  {
   "cell_type": "code",
   "execution_count": 217,
   "metadata": {},
   "outputs": [
    {
     "data": {
      "text/html": [
       "<style>#sk-container-id-1 {color: black;background-color: white;}#sk-container-id-1 pre{padding: 0;}#sk-container-id-1 div.sk-toggleable {background-color: white;}#sk-container-id-1 label.sk-toggleable__label {cursor: pointer;display: block;width: 100%;margin-bottom: 0;padding: 0.3em;box-sizing: border-box;text-align: center;}#sk-container-id-1 label.sk-toggleable__label-arrow:before {content: \"▸\";float: left;margin-right: 0.25em;color: #696969;}#sk-container-id-1 label.sk-toggleable__label-arrow:hover:before {color: black;}#sk-container-id-1 div.sk-estimator:hover label.sk-toggleable__label-arrow:before {color: black;}#sk-container-id-1 div.sk-toggleable__content {max-height: 0;max-width: 0;overflow: hidden;text-align: left;background-color: #f0f8ff;}#sk-container-id-1 div.sk-toggleable__content pre {margin: 0.2em;color: black;border-radius: 0.25em;background-color: #f0f8ff;}#sk-container-id-1 input.sk-toggleable__control:checked~div.sk-toggleable__content {max-height: 200px;max-width: 100%;overflow: auto;}#sk-container-id-1 input.sk-toggleable__control:checked~label.sk-toggleable__label-arrow:before {content: \"▾\";}#sk-container-id-1 div.sk-estimator input.sk-toggleable__control:checked~label.sk-toggleable__label {background-color: #d4ebff;}#sk-container-id-1 div.sk-label input.sk-toggleable__control:checked~label.sk-toggleable__label {background-color: #d4ebff;}#sk-container-id-1 input.sk-hidden--visually {border: 0;clip: rect(1px 1px 1px 1px);clip: rect(1px, 1px, 1px, 1px);height: 1px;margin: -1px;overflow: hidden;padding: 0;position: absolute;width: 1px;}#sk-container-id-1 div.sk-estimator {font-family: monospace;background-color: #f0f8ff;border: 1px dotted black;border-radius: 0.25em;box-sizing: border-box;margin-bottom: 0.5em;}#sk-container-id-1 div.sk-estimator:hover {background-color: #d4ebff;}#sk-container-id-1 div.sk-parallel-item::after {content: \"\";width: 100%;border-bottom: 1px solid gray;flex-grow: 1;}#sk-container-id-1 div.sk-label:hover label.sk-toggleable__label {background-color: #d4ebff;}#sk-container-id-1 div.sk-serial::before {content: \"\";position: absolute;border-left: 1px solid gray;box-sizing: border-box;top: 0;bottom: 0;left: 50%;z-index: 0;}#sk-container-id-1 div.sk-serial {display: flex;flex-direction: column;align-items: center;background-color: white;padding-right: 0.2em;padding-left: 0.2em;position: relative;}#sk-container-id-1 div.sk-item {position: relative;z-index: 1;}#sk-container-id-1 div.sk-parallel {display: flex;align-items: stretch;justify-content: center;background-color: white;position: relative;}#sk-container-id-1 div.sk-item::before, #sk-container-id-1 div.sk-parallel-item::before {content: \"\";position: absolute;border-left: 1px solid gray;box-sizing: border-box;top: 0;bottom: 0;left: 50%;z-index: -1;}#sk-container-id-1 div.sk-parallel-item {display: flex;flex-direction: column;z-index: 1;position: relative;background-color: white;}#sk-container-id-1 div.sk-parallel-item:first-child::after {align-self: flex-end;width: 50%;}#sk-container-id-1 div.sk-parallel-item:last-child::after {align-self: flex-start;width: 50%;}#sk-container-id-1 div.sk-parallel-item:only-child::after {width: 0;}#sk-container-id-1 div.sk-dashed-wrapped {border: 1px dashed gray;margin: 0 0.4em 0.5em 0.4em;box-sizing: border-box;padding-bottom: 0.4em;background-color: white;}#sk-container-id-1 div.sk-label label {font-family: monospace;font-weight: bold;display: inline-block;line-height: 1.2em;}#sk-container-id-1 div.sk-label-container {text-align: center;}#sk-container-id-1 div.sk-container {/* jupyter's `normalize.less` sets `[hidden] { display: none; }` but bootstrap.min.css set `[hidden] { display: none !important; }` so we also need the `!important` here to be able to override the default hidden behavior on the sphinx rendered scikit-learn.org. See: https://github.com/scikit-learn/scikit-learn/issues/21755 */display: inline-block !important;position: relative;}#sk-container-id-1 div.sk-text-repr-fallback {display: none;}</style><div id=\"sk-container-id-1\" class=\"sk-top-container\"><div class=\"sk-text-repr-fallback\"><pre>Pipeline(steps=[(&#x27;preprocessor&#x27;,\n",
       "                 ColumnTransformer(remainder=&#x27;passthrough&#x27;,\n",
       "                                   transformers=[(&#x27;cat&#x27;, OneHotEncoder(),\n",
       "                                                  Index([&#x27;level&#x27;, &#x27;age&#x27;, &#x27;gender&#x27;, &#x27;marital_status&#x27;, &#x27;faculty&#x27;, &#x27;department&#x27;,\n",
       "       &#x27;skill&#x27;, &#x27;prep_before&#x27;, &#x27;prep_after&#x27;, &#x27;quality_before&#x27;, &#x27;quality_after&#x27;,\n",
       "       &#x27;confidence_before&#x27;, &#x27;confidence_after&#x27;, &#x27;employment&#x27;, &#x27;quit_job&#x27;,\n",
       "       &#x27;level_200level&#x27;, &#x27;level_300level&#x27;, &#x27;lev...\n",
       "       &#x27;quality_before_Good&#x27;, &#x27;quality_before_Neutral&#x27;, &#x27;quality_before_Poor&#x27;,\n",
       "       &#x27;quality_after_Good&#x27;, &#x27;quality_after_Neutral&#x27;, &#x27;quality_after_Poor&#x27;,\n",
       "       &#x27;confidence_before_Good&#x27;, &#x27;confidence_before_Neutral&#x27;,\n",
       "       &#x27;confidence_after_Good&#x27;, &#x27;confidence_after_Neutral&#x27;,\n",
       "       &#x27;confidence_after_Poor&#x27;, &#x27;employment_No&#x27;, &#x27;employment_Yes&#x27;,\n",
       "       &#x27;quit_job_No&#x27;, &#x27;quit_job_Yes&#x27;],\n",
       "      dtype=&#x27;object&#x27;))])),\n",
       "                (&#x27;regressor&#x27;, LinearRegression())])</pre><b>In a Jupyter environment, please rerun this cell to show the HTML representation or trust the notebook. <br />On GitHub, the HTML representation is unable to render, please try loading this page with nbviewer.org.</b></div><div class=\"sk-container\" hidden><div class=\"sk-item sk-dashed-wrapped\"><div class=\"sk-label-container\"><div class=\"sk-label sk-toggleable\"><input class=\"sk-toggleable__control sk-hidden--visually\" id=\"sk-estimator-id-1\" type=\"checkbox\" ><label for=\"sk-estimator-id-1\" class=\"sk-toggleable__label sk-toggleable__label-arrow\">Pipeline</label><div class=\"sk-toggleable__content\"><pre>Pipeline(steps=[(&#x27;preprocessor&#x27;,\n",
       "                 ColumnTransformer(remainder=&#x27;passthrough&#x27;,\n",
       "                                   transformers=[(&#x27;cat&#x27;, OneHotEncoder(),\n",
       "                                                  Index([&#x27;level&#x27;, &#x27;age&#x27;, &#x27;gender&#x27;, &#x27;marital_status&#x27;, &#x27;faculty&#x27;, &#x27;department&#x27;,\n",
       "       &#x27;skill&#x27;, &#x27;prep_before&#x27;, &#x27;prep_after&#x27;, &#x27;quality_before&#x27;, &#x27;quality_after&#x27;,\n",
       "       &#x27;confidence_before&#x27;, &#x27;confidence_after&#x27;, &#x27;employment&#x27;, &#x27;quit_job&#x27;,\n",
       "       &#x27;level_200level&#x27;, &#x27;level_300level&#x27;, &#x27;lev...\n",
       "       &#x27;quality_before_Good&#x27;, &#x27;quality_before_Neutral&#x27;, &#x27;quality_before_Poor&#x27;,\n",
       "       &#x27;quality_after_Good&#x27;, &#x27;quality_after_Neutral&#x27;, &#x27;quality_after_Poor&#x27;,\n",
       "       &#x27;confidence_before_Good&#x27;, &#x27;confidence_before_Neutral&#x27;,\n",
       "       &#x27;confidence_after_Good&#x27;, &#x27;confidence_after_Neutral&#x27;,\n",
       "       &#x27;confidence_after_Poor&#x27;, &#x27;employment_No&#x27;, &#x27;employment_Yes&#x27;,\n",
       "       &#x27;quit_job_No&#x27;, &#x27;quit_job_Yes&#x27;],\n",
       "      dtype=&#x27;object&#x27;))])),\n",
       "                (&#x27;regressor&#x27;, LinearRegression())])</pre></div></div></div><div class=\"sk-serial\"><div class=\"sk-item sk-dashed-wrapped\"><div class=\"sk-label-container\"><div class=\"sk-label sk-toggleable\"><input class=\"sk-toggleable__control sk-hidden--visually\" id=\"sk-estimator-id-2\" type=\"checkbox\" ><label for=\"sk-estimator-id-2\" class=\"sk-toggleable__label sk-toggleable__label-arrow\">preprocessor: ColumnTransformer</label><div class=\"sk-toggleable__content\"><pre>ColumnTransformer(remainder=&#x27;passthrough&#x27;,\n",
       "                  transformers=[(&#x27;cat&#x27;, OneHotEncoder(),\n",
       "                                 Index([&#x27;level&#x27;, &#x27;age&#x27;, &#x27;gender&#x27;, &#x27;marital_status&#x27;, &#x27;faculty&#x27;, &#x27;department&#x27;,\n",
       "       &#x27;skill&#x27;, &#x27;prep_before&#x27;, &#x27;prep_after&#x27;, &#x27;quality_before&#x27;, &#x27;quality_after&#x27;,\n",
       "       &#x27;confidence_before&#x27;, &#x27;confidence_after&#x27;, &#x27;employment&#x27;, &#x27;quit_job&#x27;,\n",
       "       &#x27;level_200level&#x27;, &#x27;level_300level&#x27;, &#x27;level_400level&#x27;, &#x27;level_500level.&#x27;,\n",
       "       &#x27;...\n",
       "       &#x27;prep_after_Good&#x27;, &#x27;prep_after_Neutral&#x27;, &#x27;prep_after_Poor&#x27;,\n",
       "       &#x27;quality_before_Good&#x27;, &#x27;quality_before_Neutral&#x27;, &#x27;quality_before_Poor&#x27;,\n",
       "       &#x27;quality_after_Good&#x27;, &#x27;quality_after_Neutral&#x27;, &#x27;quality_after_Poor&#x27;,\n",
       "       &#x27;confidence_before_Good&#x27;, &#x27;confidence_before_Neutral&#x27;,\n",
       "       &#x27;confidence_after_Good&#x27;, &#x27;confidence_after_Neutral&#x27;,\n",
       "       &#x27;confidence_after_Poor&#x27;, &#x27;employment_No&#x27;, &#x27;employment_Yes&#x27;,\n",
       "       &#x27;quit_job_No&#x27;, &#x27;quit_job_Yes&#x27;],\n",
       "      dtype=&#x27;object&#x27;))])</pre></div></div></div><div class=\"sk-parallel\"><div class=\"sk-parallel-item\"><div class=\"sk-item\"><div class=\"sk-label-container\"><div class=\"sk-label sk-toggleable\"><input class=\"sk-toggleable__control sk-hidden--visually\" id=\"sk-estimator-id-3\" type=\"checkbox\" ><label for=\"sk-estimator-id-3\" class=\"sk-toggleable__label sk-toggleable__label-arrow\">cat</label><div class=\"sk-toggleable__content\"><pre>Index([&#x27;level&#x27;, &#x27;age&#x27;, &#x27;gender&#x27;, &#x27;marital_status&#x27;, &#x27;faculty&#x27;, &#x27;department&#x27;,\n",
       "       &#x27;skill&#x27;, &#x27;prep_before&#x27;, &#x27;prep_after&#x27;, &#x27;quality_before&#x27;, &#x27;quality_after&#x27;,\n",
       "       &#x27;confidence_before&#x27;, &#x27;confidence_after&#x27;, &#x27;employment&#x27;, &#x27;quit_job&#x27;,\n",
       "       &#x27;level_200level&#x27;, &#x27;level_300level&#x27;, &#x27;level_400level&#x27;, &#x27;level_500level.&#x27;,\n",
       "       &#x27;age_16–18&#x27;, &#x27;age_19–21&#x27;, &#x27;age_22–24&#x27;, &#x27;age_25–27&#x27;, &#x27;gender_Female&#x27;,\n",
       "       &#x27;gender_Male&#x27;, &#x27;marital_status_Married&#x27;, &#x27;marital_status_Single&#x27;,\n",
       "       &#x27;faculty_Education&#x27;, &#x27;faculty_Engineering&#x27;, &#x27;faculty_Law&#x27;,\n",
       "       &#x27;faculty_Management Science&#x27;, &#x27;faculty_Science&#x27;,\n",
       "       &#x27;department_Art and social sciences Education &#x27;, &#x27;department_Botany &#x27;,\n",
       "       &#x27;department_Cell Biology and Genetics&#x27;, &#x27;department_Civil Engineering&#x27;,\n",
       "       &#x27;department_Educational foundations &#x27;, &#x27;department_Finance &#x27;,\n",
       "       &#x27;department_Geophysics &#x27;, &#x27;department_Law&#x27;,\n",
       "       &#x27;department_Marine  science&#x27;, &#x27;department_Statistics &#x27;,\n",
       "       &#x27;department_accounting &#x27;, &#x27;skill_No&#x27;, &#x27;skill_No Skill&#x27;, &#x27;skill_Yes&#x27;,\n",
       "       &#x27;prep_before_Good&#x27;, &#x27;prep_before_Neutral&#x27;, &#x27;prep_before_Poor&#x27;,\n",
       "       &#x27;prep_after_Good&#x27;, &#x27;prep_after_Neutral&#x27;, &#x27;prep_after_Poor&#x27;,\n",
       "       &#x27;quality_before_Good&#x27;, &#x27;quality_before_Neutral&#x27;, &#x27;quality_before_Poor&#x27;,\n",
       "       &#x27;quality_after_Good&#x27;, &#x27;quality_after_Neutral&#x27;, &#x27;quality_after_Poor&#x27;,\n",
       "       &#x27;confidence_before_Good&#x27;, &#x27;confidence_before_Neutral&#x27;,\n",
       "       &#x27;confidence_after_Good&#x27;, &#x27;confidence_after_Neutral&#x27;,\n",
       "       &#x27;confidence_after_Poor&#x27;, &#x27;employment_No&#x27;, &#x27;employment_Yes&#x27;,\n",
       "       &#x27;quit_job_No&#x27;, &#x27;quit_job_Yes&#x27;],\n",
       "      dtype=&#x27;object&#x27;)</pre></div></div></div><div class=\"sk-serial\"><div class=\"sk-item\"><div class=\"sk-estimator sk-toggleable\"><input class=\"sk-toggleable__control sk-hidden--visually\" id=\"sk-estimator-id-4\" type=\"checkbox\" ><label for=\"sk-estimator-id-4\" class=\"sk-toggleable__label sk-toggleable__label-arrow\">OneHotEncoder</label><div class=\"sk-toggleable__content\"><pre>OneHotEncoder()</pre></div></div></div></div></div></div><div class=\"sk-parallel-item\"><div class=\"sk-item\"><div class=\"sk-label-container\"><div class=\"sk-label sk-toggleable\"><input class=\"sk-toggleable__control sk-hidden--visually\" id=\"sk-estimator-id-5\" type=\"checkbox\" ><label for=\"sk-estimator-id-5\" class=\"sk-toggleable__label sk-toggleable__label-arrow\">remainder</label><div class=\"sk-toggleable__content\"><pre>[]</pre></div></div></div><div class=\"sk-serial\"><div class=\"sk-item\"><div class=\"sk-estimator sk-toggleable\"><input class=\"sk-toggleable__control sk-hidden--visually\" id=\"sk-estimator-id-6\" type=\"checkbox\" ><label for=\"sk-estimator-id-6\" class=\"sk-toggleable__label sk-toggleable__label-arrow\">passthrough</label><div class=\"sk-toggleable__content\"><pre>passthrough</pre></div></div></div></div></div></div></div></div><div class=\"sk-item\"><div class=\"sk-estimator sk-toggleable\"><input class=\"sk-toggleable__control sk-hidden--visually\" id=\"sk-estimator-id-7\" type=\"checkbox\" ><label for=\"sk-estimator-id-7\" class=\"sk-toggleable__label sk-toggleable__label-arrow\">LinearRegression</label><div class=\"sk-toggleable__content\"><pre>LinearRegression()</pre></div></div></div></div></div></div></div>"
      ],
      "text/plain": [
       "Pipeline(steps=[('preprocessor',\n",
       "                 ColumnTransformer(remainder='passthrough',\n",
       "                                   transformers=[('cat', OneHotEncoder(),\n",
       "                                                  Index(['level', 'age', 'gender', 'marital_status', 'faculty', 'department',\n",
       "       'skill', 'prep_before', 'prep_after', 'quality_before', 'quality_after',\n",
       "       'confidence_before', 'confidence_after', 'employment', 'quit_job',\n",
       "       'level_200level', 'level_300level', 'lev...\n",
       "       'quality_before_Good', 'quality_before_Neutral', 'quality_before_Poor',\n",
       "       'quality_after_Good', 'quality_after_Neutral', 'quality_after_Poor',\n",
       "       'confidence_before_Good', 'confidence_before_Neutral',\n",
       "       'confidence_after_Good', 'confidence_after_Neutral',\n",
       "       'confidence_after_Poor', 'employment_No', 'employment_Yes',\n",
       "       'quit_job_No', 'quit_job_Yes'],\n",
       "      dtype='object'))])),\n",
       "                ('regressor', LinearRegression())])"
      ]
     },
     "execution_count": 217,
     "metadata": {},
     "output_type": "execute_result"
    }
   ],
   "source": [
    "# create the linear regression model\n",
    "model = Pipeline(steps=[('preprocessor', preprocessor),\n",
    "                        ('regressor', LinearRegression())])\n",
    "\n",
    "\n",
    "# fit the model to the training data\n",
    "model.fit(X_train, y_train)"
   ]
  },
  {
   "cell_type": "code",
   "execution_count": 231,
   "metadata": {},
   "outputs": [
    {
     "name": "stdout",
     "output_type": "stream",
     "text": [
      "\n",
      "Baseline MSE: 0.06921 \n",
      "Training MSE: 0.06954\n"
     ]
    }
   ],
   "source": [
    "# evaluate the model's performance on the training data\n",
    "y_train_mean = y_train.mean()\n",
    "y_train_baseline = [y_train_mean]*len(y_train)\n",
    "baseline_mse = mean_squared_error(y_train, y_train_baseline)\n",
    "training_mse = mean_squared_error(y_train, model.predict(X_train))\n",
    "print(f\"\"\"\n",
    "Baseline MSE: {round(baseline_mse, 5)} \n",
    "Training MSE: {round(training_mse, 5)}\"\"\")"
   ]
  },
  {
   "cell_type": "code",
   "execution_count": 232,
   "metadata": {},
   "outputs": [
    {
     "name": "stdout",
     "output_type": "stream",
     "text": [
      "\n",
      "Baseline MSE: 0.06921 \n",
      "Training MSE: 0.06954\n",
      "Validation MSE: 0.07751\n"
     ]
    }
   ],
   "source": [
    "# predict the target variable for the validation data\n",
    "y_pred_val = model.predict(X_val)\n",
    "\n",
    "\n",
    "# evaluate the model's performance on the validation data\n",
    "y_val_mean = y_val.mean()\n",
    "y_val_baseline = [y_val_mean]*len(y_val)\n",
    "val_mse = mean_squared_error(y_val, y_pred_val)\n",
    "\n",
    "print(f\"\"\"\n",
    "Baseline MSE: {round(baseline_mse, 5)} \n",
    "Training MSE: {round(training_mse, 5)}\n",
    "Validation MSE: {round(val_mse, 5)}\"\"\")"
   ]
  },
  {
   "cell_type": "code",
   "execution_count": 234,
   "metadata": {},
   "outputs": [
    {
     "name": "stdout",
     "output_type": "stream",
     "text": [
      "Mean MSE: 0.07254\n",
      "Standard deviation of MSE: 0.00519\n"
     ]
    }
   ],
   "source": [
    "# perform k-fold cross-validation\n",
    "from sklearn.model_selection import cross_val_score\n",
    "\n",
    "\n",
    "scores = cross_val_score(model, X, y, cv=5, scoring='neg_mean_squared_error')\n",
    "\n",
    "# calculate the mean and standard deviation of the scores\n",
    "mean_mse = np.mean(-scores)\n",
    "std_mse = np.std(-scores)\n",
    "\n",
    "# print the mean and standard deviation of the scores\n",
    "print(f\"Mean MSE: {mean_mse:.5f}\")\n",
    "print(f\"Standard deviation of MSE: {std_mse:.5f}\")"
   ]
  },
  {
   "cell_type": "code",
   "execution_count": 237,
   "metadata": {},
   "outputs": [
    {
     "data": {
      "image/png": "[encoded data removed]",
      "text/plain": [
       "<Figure size 640x480 with 1 Axes>"
      ]
     },
     "metadata": {},
     "output_type": "display_data"
    }
   ],
   "source": [
    "# calculate the residuals\n",
    "residuals = y_val - y_pred_val\n",
    "\n",
    "# plot the residuals\n",
    "plt.scatter(y_val, residuals)\n",
    "plt.axhline(y=0, color='r', linestyle='-')\n",
    "plt.xlabel('Actual values')\n",
    "plt.ylabel('Residuals')\n",
    "plt.show()"
   ]
  },
  {
   "cell_type": "code",
   "execution_count": 225,
   "metadata": {},
   "outputs": [
    {
     "data": {
      "text/plain": [
       "0.07751305636762683"
      ]
     },
     "execution_count": 225,
     "metadata": {},
     "output_type": "execute_result"
    }
   ],
   "source": [
    "# evaluate the model's performance on the test data\n",
    "mse = mean_squared_error(y_val, y_pred_val)\n",
    "mse"
   ]
  },
  {
   "cell_type": "code",
   "execution_count": 214,
   "metadata": {},
   "outputs": [],
   "source": [
    "# dt_model = DecisionTreeClassifier(max_depth=6, random_state=42)\n",
    "\n",
    "# make_pipeline(\n",
    "#     OrdinalEncoder(),\n",
    "#     DecisionTreeClassifier(max_depth=6, random_state=42)\n",
    "# )\n",
    "\n",
    "# Fit model to training data\n",
    "# dt_model.fit(X_train, y_train)"
   ]
  },
  {
   "attachments": {},
   "cell_type": "markdown",
   "metadata": {},
   "source": [
    "#### Decision Tree Classifier"
   ]
  },
  {
   "cell_type": "code",
   "execution_count": 243,
   "metadata": {},
   "outputs": [],
   "source": [
    "def categorize_change(val):\n",
    "    category = \"\"\n",
    "\n",
    "    if abs(val) >= 1:\n",
    "        category+=\"EXTREME\"\n",
    "    elif abs(val) >= 0.5:\n",
    "        category+=\"VERY HIGH\"\n",
    "    elif abs(val) >= 0.2:\n",
    "        category+=\"HIGH\"\n",
    "    elif abs(val) >= 0.1:\n",
    "        category+=\"MEDIUM\"\n",
    "    elif abs(val) >= 0.05:\n",
    "        category+=\"LOW\"\n",
    "    else:\n",
    "        category+=\" VERY LOW\"\n",
    "        \n",
    "    if val > 0:\n",
    "        category+= \"-RISE\"\n",
    "    else:\n",
    "        category+= \"-DROP\"\n",
    "    \n",
    "    return category"
   ]
  },
  {
   "cell_type": "code",
   "execution_count": 253,
   "metadata": {},
   "outputs": [
    {
     "data": {
      "text/html": [
       "<div>\n",
       "<style scoped>\n",
       "    .dataframe tbody tr th:only-of-type {\n",
       "        vertical-align: middle;\n",
       "    }\n",
       "\n",
       "    .dataframe tbody tr th {\n",
       "        vertical-align: top;\n",
       "    }\n",
       "\n",
       "    .dataframe thead th {\n",
       "        text-align: right;\n",
       "    }\n",
       "</style>\n",
       "<table border=\"1\" class=\"dataframe\">\n",
       "  <thead>\n",
       "    <tr style=\"text-align: right;\">\n",
       "      <th></th>\n",
       "      <th>level</th>\n",
       "      <th>age</th>\n",
       "      <th>gender</th>\n",
       "      <th>marital_status</th>\n",
       "      <th>faculty</th>\n",
       "      <th>department</th>\n",
       "      <th>skill</th>\n",
       "      <th>prep_before</th>\n",
       "      <th>prep_after</th>\n",
       "      <th>quality_before</th>\n",
       "      <th>quality_after</th>\n",
       "      <th>confidence_before</th>\n",
       "      <th>confidence_after</th>\n",
       "      <th>employment</th>\n",
       "      <th>quit_job</th>\n",
       "      <th>cgpa_change</th>\n",
       "    </tr>\n",
       "  </thead>\n",
       "  <tbody>\n",
       "    <tr>\n",
       "      <th>0</th>\n",
       "      <td>400level</td>\n",
       "      <td>22–24</td>\n",
       "      <td>Female</td>\n",
       "      <td>Single</td>\n",
       "      <td>Management Science</td>\n",
       "      <td>Finance</td>\n",
       "      <td>Yes</td>\n",
       "      <td>Neutral</td>\n",
       "      <td>Poor</td>\n",
       "      <td>Neutral</td>\n",
       "      <td>Poor</td>\n",
       "      <td>Good</td>\n",
       "      <td>Neutral</td>\n",
       "      <td>Yes</td>\n",
       "      <td>No</td>\n",
       "      <td>LOW-DROP</td>\n",
       "    </tr>\n",
       "    <tr>\n",
       "      <th>1</th>\n",
       "      <td>300level</td>\n",
       "      <td>19–21</td>\n",
       "      <td>Male</td>\n",
       "      <td>Single</td>\n",
       "      <td>Science</td>\n",
       "      <td>Statistics</td>\n",
       "      <td>Yes</td>\n",
       "      <td>Good</td>\n",
       "      <td>Good</td>\n",
       "      <td>Good</td>\n",
       "      <td>Good</td>\n",
       "      <td>Good</td>\n",
       "      <td>Good</td>\n",
       "      <td>Yes</td>\n",
       "      <td>No</td>\n",
       "      <td>VERY LOW-DROP</td>\n",
       "    </tr>\n",
       "    <tr>\n",
       "      <th>2</th>\n",
       "      <td>300level</td>\n",
       "      <td>25–27</td>\n",
       "      <td>Male</td>\n",
       "      <td>Single</td>\n",
       "      <td>Science</td>\n",
       "      <td>Botany</td>\n",
       "      <td>Yes</td>\n",
       "      <td>Good</td>\n",
       "      <td>Neutral</td>\n",
       "      <td>Neutral</td>\n",
       "      <td>Poor</td>\n",
       "      <td>Good</td>\n",
       "      <td>Neutral</td>\n",
       "      <td>No</td>\n",
       "      <td>No</td>\n",
       "      <td>HIGH-DROP</td>\n",
       "    </tr>\n",
       "    <tr>\n",
       "      <th>3</th>\n",
       "      <td>400level</td>\n",
       "      <td>22–24</td>\n",
       "      <td>Male</td>\n",
       "      <td>Single</td>\n",
       "      <td>Science</td>\n",
       "      <td>Geophysics</td>\n",
       "      <td>No</td>\n",
       "      <td>Poor</td>\n",
       "      <td>Neutral</td>\n",
       "      <td>Neutral</td>\n",
       "      <td>Poor</td>\n",
       "      <td>Neutral</td>\n",
       "      <td>Poor</td>\n",
       "      <td>No</td>\n",
       "      <td>No</td>\n",
       "      <td>LOW-RISE</td>\n",
       "    </tr>\n",
       "    <tr>\n",
       "      <th>4</th>\n",
       "      <td>200level</td>\n",
       "      <td>16–18</td>\n",
       "      <td>Female</td>\n",
       "      <td>Married</td>\n",
       "      <td>Engineering</td>\n",
       "      <td>Civil Engineering</td>\n",
       "      <td>No</td>\n",
       "      <td>Neutral</td>\n",
       "      <td>Neutral</td>\n",
       "      <td>Neutral</td>\n",
       "      <td>Neutral</td>\n",
       "      <td>Neutral</td>\n",
       "      <td>Neutral</td>\n",
       "      <td>Yes</td>\n",
       "      <td>No</td>\n",
       "      <td>HIGH-DROP</td>\n",
       "    </tr>\n",
       "  </tbody>\n",
       "</table>\n",
       "</div>"
      ],
      "text/plain": [
       "      level    age  gender marital_status             faculty  \\\n",
       "0  400level  22–24  Female         Single  Management Science   \n",
       "1  300level  19–21    Male         Single             Science   \n",
       "2  300level  25–27    Male         Single             Science   \n",
       "3  400level  22–24    Male         Single             Science   \n",
       "4  200level  16–18  Female        Married         Engineering   \n",
       "\n",
       "          department skill prep_before prep_after quality_before  \\\n",
       "0           Finance    Yes     Neutral       Poor        Neutral   \n",
       "1        Statistics    Yes        Good       Good           Good   \n",
       "2            Botany    Yes        Good    Neutral        Neutral   \n",
       "3        Geophysics     No        Poor    Neutral        Neutral   \n",
       "4  Civil Engineering    No     Neutral    Neutral        Neutral   \n",
       "\n",
       "  quality_after confidence_before confidence_after employment quit_job  \\\n",
       "0          Poor              Good          Neutral        Yes       No   \n",
       "1          Good              Good             Good        Yes       No   \n",
       "2          Poor              Good          Neutral         No       No   \n",
       "3          Poor           Neutral             Poor         No       No   \n",
       "4       Neutral           Neutral          Neutral        Yes       No   \n",
       "\n",
       "      cgpa_change  \n",
       "0        LOW-DROP  \n",
       "1   VERY LOW-DROP  \n",
       "2       HIGH-DROP  \n",
       "3        LOW-RISE  \n",
       "4       HIGH-DROP  "
      ]
     },
     "execution_count": 253,
     "metadata": {},
     "output_type": "execute_result"
    }
   ],
   "source": [
    "df = new_sample.drop(columns=[\"cgpa_before\", \"cgpa_after\"])\n",
    "\n",
    "df[\"cgpa_change\"] = df[\"cgpa_change\"].apply(categorize_change)\n",
    "df.head()"
   ]
  },
  {
   "cell_type": "code",
   "execution_count": 265,
   "metadata": {},
   "outputs": [
    {
     "data": {
      "text/plain": [
       "<AxesSubplot:>"
      ]
     },
     "execution_count": 265,
     "metadata": {},
     "output_type": "execute_result"
    },
    {
     "data": {
      "image/png": "[encoded data removed]",
      "text/plain": [
       "<Figure size 640x480 with 1 Axes>"
      ]
     },
     "metadata": {},
     "output_type": "display_data"
    }
   ],
   "source": [
    "df[\"cgpa_change\"].value_counts().sort_values(ascending=False).plot(kind=\"bar\")"
   ]
  },
  {
   "cell_type": "code",
   "execution_count": 254,
   "metadata": {},
   "outputs": [],
   "source": [
    "target = \"cgpa_change\"\n",
    "X = df.drop(columns=target)\n",
    "y = df[target]"
   ]
  },
  {
   "cell_type": "code",
   "execution_count": 255,
   "metadata": {},
   "outputs": [],
   "source": [
    "X_train, X_test, y_train, y_test = train_test_split(X, y, test_size=0.2, random_state=42)\n",
    "\n",
    "X_train, X_val, y_train, y_val = train_test_split(\n",
    "        X_train, y_train, test_size=0.2, random_state=42\n",
    ")"
   ]
  },
  {
   "cell_type": "code",
   "execution_count": 257,
   "metadata": {},
   "outputs": [
    {
     "data": {
      "text/html": [
       "<style>#sk-container-id-2 {color: black;background-color: white;}#sk-container-id-2 pre{padding: 0;}#sk-container-id-2 div.sk-toggleable {background-color: white;}#sk-container-id-2 label.sk-toggleable__label {cursor: pointer;display: block;width: 100%;margin-bottom: 0;padding: 0.3em;box-sizing: border-box;text-align: center;}#sk-container-id-2 label.sk-toggleable__label-arrow:before {content: \"▸\";float: left;margin-right: 0.25em;color: #696969;}#sk-container-id-2 label.sk-toggleable__label-arrow:hover:before {color: black;}#sk-container-id-2 div.sk-estimator:hover label.sk-toggleable__label-arrow:before {color: black;}#sk-container-id-2 div.sk-toggleable__content {max-height: 0;max-width: 0;overflow: hidden;text-align: left;background-color: #f0f8ff;}#sk-container-id-2 div.sk-toggleable__content pre {margin: 0.2em;color: black;border-radius: 0.25em;background-color: #f0f8ff;}#sk-container-id-2 input.sk-toggleable__control:checked~div.sk-toggleable__content {max-height: 200px;max-width: 100%;overflow: auto;}#sk-container-id-2 input.sk-toggleable__control:checked~label.sk-toggleable__label-arrow:before {content: \"▾\";}#sk-container-id-2 div.sk-estimator input.sk-toggleable__control:checked~label.sk-toggleable__label {background-color: #d4ebff;}#sk-container-id-2 div.sk-label input.sk-toggleable__control:checked~label.sk-toggleable__label {background-color: #d4ebff;}#sk-container-id-2 input.sk-hidden--visually {border: 0;clip: rect(1px 1px 1px 1px);clip: rect(1px, 1px, 1px, 1px);height: 1px;margin: -1px;overflow: hidden;padding: 0;position: absolute;width: 1px;}#sk-container-id-2 div.sk-estimator {font-family: monospace;background-color: #f0f8ff;border: 1px dotted black;border-radius: 0.25em;box-sizing: border-box;margin-bottom: 0.5em;}#sk-container-id-2 div.sk-estimator:hover {background-color: #d4ebff;}#sk-container-id-2 div.sk-parallel-item::after {content: \"\";width: 100%;border-bottom: 1px solid gray;flex-grow: 1;}#sk-container-id-2 div.sk-label:hover label.sk-toggleable__label {background-color: #d4ebff;}#sk-container-id-2 div.sk-serial::before {content: \"\";position: absolute;border-left: 1px solid gray;box-sizing: border-box;top: 0;bottom: 0;left: 50%;z-index: 0;}#sk-container-id-2 div.sk-serial {display: flex;flex-direction: column;align-items: center;background-color: white;padding-right: 0.2em;padding-left: 0.2em;position: relative;}#sk-container-id-2 div.sk-item {position: relative;z-index: 1;}#sk-container-id-2 div.sk-parallel {display: flex;align-items: stretch;justify-content: center;background-color: white;position: relative;}#sk-container-id-2 div.sk-item::before, #sk-container-id-2 div.sk-parallel-item::before {content: \"\";position: absolute;border-left: 1px solid gray;box-sizing: border-box;top: 0;bottom: 0;left: 50%;z-index: -1;}#sk-container-id-2 div.sk-parallel-item {display: flex;flex-direction: column;z-index: 1;position: relative;background-color: white;}#sk-container-id-2 div.sk-parallel-item:first-child::after {align-self: flex-end;width: 50%;}#sk-container-id-2 div.sk-parallel-item:last-child::after {align-self: flex-start;width: 50%;}#sk-container-id-2 div.sk-parallel-item:only-child::after {width: 0;}#sk-container-id-2 div.sk-dashed-wrapped {border: 1px dashed gray;margin: 0 0.4em 0.5em 0.4em;box-sizing: border-box;padding-bottom: 0.4em;background-color: white;}#sk-container-id-2 div.sk-label label {font-family: monospace;font-weight: bold;display: inline-block;line-height: 1.2em;}#sk-container-id-2 div.sk-label-container {text-align: center;}#sk-container-id-2 div.sk-container {/* jupyter's `normalize.less` sets `[hidden] { display: none; }` but bootstrap.min.css set `[hidden] { display: none !important; }` so we also need the `!important` here to be able to override the default hidden behavior on the sphinx rendered scikit-learn.org. See: https://github.com/scikit-learn/scikit-learn/issues/21755 */display: inline-block !important;position: relative;}#sk-container-id-2 div.sk-text-repr-fallback {display: none;}</style><div id=\"sk-container-id-2\" class=\"sk-top-container\"><div class=\"sk-text-repr-fallback\"><pre>Pipeline(steps=[(&#x27;ordinalencoder&#x27;, OrdinalEncoder()),\n",
       "                (&#x27;decisiontreeclassifier&#x27;,\n",
       "                 DecisionTreeClassifier(max_depth=6, random_state=42))])</pre><b>In a Jupyter environment, please rerun this cell to show the HTML representation or trust the notebook. <br />On GitHub, the HTML representation is unable to render, please try loading this page with nbviewer.org.</b></div><div class=\"sk-container\" hidden><div class=\"sk-item sk-dashed-wrapped\"><div class=\"sk-label-container\"><div class=\"sk-label sk-toggleable\"><input class=\"sk-toggleable__control sk-hidden--visually\" id=\"sk-estimator-id-8\" type=\"checkbox\" ><label for=\"sk-estimator-id-8\" class=\"sk-toggleable__label sk-toggleable__label-arrow\">Pipeline</label><div class=\"sk-toggleable__content\"><pre>Pipeline(steps=[(&#x27;ordinalencoder&#x27;, OrdinalEncoder()),\n",
       "                (&#x27;decisiontreeclassifier&#x27;,\n",
       "                 DecisionTreeClassifier(max_depth=6, random_state=42))])</pre></div></div></div><div class=\"sk-serial\"><div class=\"sk-item\"><div class=\"sk-estimator sk-toggleable\"><input class=\"sk-toggleable__control sk-hidden--visually\" id=\"sk-estimator-id-9\" type=\"checkbox\" ><label for=\"sk-estimator-id-9\" class=\"sk-toggleable__label sk-toggleable__label-arrow\">OrdinalEncoder</label><div class=\"sk-toggleable__content\"><pre>OrdinalEncoder()</pre></div></div></div><div class=\"sk-item\"><div class=\"sk-estimator sk-toggleable\"><input class=\"sk-toggleable__control sk-hidden--visually\" id=\"sk-estimator-id-10\" type=\"checkbox\" ><label for=\"sk-estimator-id-10\" class=\"sk-toggleable__label sk-toggleable__label-arrow\">DecisionTreeClassifier</label><div class=\"sk-toggleable__content\"><pre>DecisionTreeClassifier(max_depth=6, random_state=42)</pre></div></div></div></div></div></div></div>"
      ],
      "text/plain": [
       "Pipeline(steps=[('ordinalencoder', OrdinalEncoder()),\n",
       "                ('decisiontreeclassifier',\n",
       "                 DecisionTreeClassifier(max_depth=6, random_state=42))])"
      ]
     },
     "execution_count": 257,
     "metadata": {},
     "output_type": "execute_result"
    }
   ],
   "source": [
    "dt_model = make_pipeline(\n",
    "    OrdinalEncoder(), \n",
    "    DecisionTreeClassifier(max_depth=6, random_state=42)\n",
    ")\n",
    "\n",
    "dt_model.fit(X_train, y_train)"
   ]
  },
  {
   "cell_type": "code",
   "execution_count": 258,
   "metadata": {},
   "outputs": [
    {
     "name": "stdout",
     "output_type": "stream",
     "text": [
      "Training Accuracy: 0.35\n",
      "Validation Accuracy: 0.34\n"
     ]
    }
   ],
   "source": [
    "from sklearn.metrics import accuracy_score\n",
    "\n",
    "\n",
    "acc_train = accuracy_score(y_train, dt_model.predict(X_train))\n",
    "acc_val = dt_model.score(X_val, y_val)\n",
    "\n",
    "print(\"Training Accuracy:\", round(acc_train, 2))\n",
    "print(\"Validation Accuracy:\", round(acc_val, 2))"
   ]
  },
  {
   "attachments": {},
   "cell_type": "markdown",
   "metadata": {},
   "source": [
    "### Baseline"
   ]
  },
  {
   "attachments": {},
   "cell_type": "markdown",
   "metadata": {},
   "source": [
    "### Iterate"
   ]
  },
  {
   "attachments": {},
   "cell_type": "markdown",
   "metadata": {},
   "source": [
    "### Evaluate"
   ]
  },
  {
   "attachments": {},
   "cell_type": "markdown",
   "metadata": {},
   "source": [
    "## Communicate"
   ]
  }
 ],
 "metadata": {
  "kernelspec": {
   "display_name": "Python 3",
   "language": "python",
   "name": "python3"
  },
  "language_info": {
   "codemirror_mode": {
    "name": "ipython",
    "version": 3
   },
   "file_extension": ".py",
   "mimetype": "text/x-python",
   "name": "python",
   "nbconvert_exporter": "python",
   "pygments_lexer": "ipython3",
   "version": "3.10.5"
  },
  "orig_nbformat": 4,
  "vscode": {
   "interpreter": {
    "hash": "afb734500600fd355917ca529030176ea0ca205570884b88f2f6f7d791fd3fbe"
   }
  }
 },
 "nbformat": 4,
 "nbformat_minor": 2
}
