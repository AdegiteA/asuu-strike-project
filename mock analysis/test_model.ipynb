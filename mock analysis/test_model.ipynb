{
 "cells": [
  {
   "cell_type": "markdown",
   "metadata": {},
   "source": [
    "# Model Building [Mock]"
   ]
  },
  {
   "attachments": {},
   "cell_type": "markdown",
   "metadata": {},
   "source": [
    "## Import Modules"
   ]
  },
  {
   "cell_type": "code",
   "execution_count": 149,
   "metadata": {},
   "outputs": [],
   "source": [
    "import matplotlib.pyplot as plt\n",
    "import pandas as pd\n",
    "import numpy as np\n",
    "import seaborn as sns\n",
    "from sklearn.tree import DecisionTreeClassifier\n",
    "from sklearn.preprocessing import OneHotEncoder\n",
    "from sklearn.preprocessing import OrdinalEncoder\n",
    "from sklearn.pipeline import make_pipeline\n",
    "from sklearn.model_selection import train_test_split\n",
    "from sklearn.compose import ColumnTransformer\n",
    "from sklearn.linear_model import LinearRegression\n",
    "from sklearn.pipeline import Pipeline\n",
    "from sklearn.metrics import mean_squared_error\n",
    "from sklearn.metrics import accuracy_score"
   ]
  },
  {
   "attachments": {},
   "cell_type": "markdown",
   "metadata": {},
   "source": [
    "## Load data"
   ]
  },
  {
   "cell_type": "code",
   "execution_count": 150,
   "metadata": {},
   "outputs": [
    {
     "data": {
      "text/html": [
       "<div>\n",
       "<style scoped>\n",
       "    .dataframe tbody tr th:only-of-type {\n",
       "        vertical-align: middle;\n",
       "    }\n",
       "\n",
       "    .dataframe tbody tr th {\n",
       "        vertical-align: top;\n",
       "    }\n",
       "\n",
       "    .dataframe thead th {\n",
       "        text-align: right;\n",
       "    }\n",
       "</style>\n",
       "<table border=\"1\" class=\"dataframe\">\n",
       "  <thead>\n",
       "    <tr style=\"text-align: right;\">\n",
       "      <th></th>\n",
       "      <th>level</th>\n",
       "      <th>age</th>\n",
       "      <th>gender</th>\n",
       "      <th>marital_status</th>\n",
       "      <th>faculty</th>\n",
       "      <th>department</th>\n",
       "      <th>skill</th>\n",
       "      <th>prep_before</th>\n",
       "      <th>prep_after</th>\n",
       "      <th>quality_before</th>\n",
       "      <th>quality_after</th>\n",
       "      <th>confidence_before</th>\n",
       "      <th>confidence_after</th>\n",
       "      <th>cgpa_before</th>\n",
       "      <th>cgpa_after</th>\n",
       "      <th>employment</th>\n",
       "      <th>quit_job</th>\n",
       "      <th>cgpa_change</th>\n",
       "    </tr>\n",
       "  </thead>\n",
       "  <tbody>\n",
       "    <tr>\n",
       "      <th>0</th>\n",
       "      <td>400level</td>\n",
       "      <td>22–24</td>\n",
       "      <td>Female</td>\n",
       "      <td>Single</td>\n",
       "      <td>Management Science</td>\n",
       "      <td>Finance</td>\n",
       "      <td>Yes</td>\n",
       "      <td>Neutral</td>\n",
       "      <td>Poor</td>\n",
       "      <td>Neutral</td>\n",
       "      <td>Poor</td>\n",
       "      <td>Good</td>\n",
       "      <td>Neutral</td>\n",
       "      <td>3.997469</td>\n",
       "      <td>3.919087</td>\n",
       "      <td>Yes</td>\n",
       "      <td>No</td>\n",
       "      <td>-0.078382</td>\n",
       "    </tr>\n",
       "    <tr>\n",
       "      <th>1</th>\n",
       "      <td>300level</td>\n",
       "      <td>19–21</td>\n",
       "      <td>Male</td>\n",
       "      <td>Single</td>\n",
       "      <td>Science</td>\n",
       "      <td>Statistics</td>\n",
       "      <td>Yes</td>\n",
       "      <td>Good</td>\n",
       "      <td>Good</td>\n",
       "      <td>Good</td>\n",
       "      <td>Good</td>\n",
       "      <td>Good</td>\n",
       "      <td>Good</td>\n",
       "      <td>3.995620</td>\n",
       "      <td>3.968665</td>\n",
       "      <td>Yes</td>\n",
       "      <td>No</td>\n",
       "      <td>-0.026955</td>\n",
       "    </tr>\n",
       "    <tr>\n",
       "      <th>2</th>\n",
       "      <td>300level</td>\n",
       "      <td>25–27</td>\n",
       "      <td>Male</td>\n",
       "      <td>Single</td>\n",
       "      <td>Science</td>\n",
       "      <td>Botany</td>\n",
       "      <td>Yes</td>\n",
       "      <td>Good</td>\n",
       "      <td>Neutral</td>\n",
       "      <td>Neutral</td>\n",
       "      <td>Poor</td>\n",
       "      <td>Good</td>\n",
       "      <td>Neutral</td>\n",
       "      <td>4.031612</td>\n",
       "      <td>3.585951</td>\n",
       "      <td>No</td>\n",
       "      <td>No</td>\n",
       "      <td>-0.445661</td>\n",
       "    </tr>\n",
       "    <tr>\n",
       "      <th>3</th>\n",
       "      <td>400level</td>\n",
       "      <td>22–24</td>\n",
       "      <td>Male</td>\n",
       "      <td>Single</td>\n",
       "      <td>Science</td>\n",
       "      <td>Geophysics</td>\n",
       "      <td>No</td>\n",
       "      <td>Poor</td>\n",
       "      <td>Neutral</td>\n",
       "      <td>Neutral</td>\n",
       "      <td>Poor</td>\n",
       "      <td>Neutral</td>\n",
       "      <td>Poor</td>\n",
       "      <td>3.959860</td>\n",
       "      <td>4.051120</td>\n",
       "      <td>No</td>\n",
       "      <td>No</td>\n",
       "      <td>0.091260</td>\n",
       "    </tr>\n",
       "    <tr>\n",
       "      <th>4</th>\n",
       "      <td>200level</td>\n",
       "      <td>16–18</td>\n",
       "      <td>Female</td>\n",
       "      <td>Married</td>\n",
       "      <td>Engineering</td>\n",
       "      <td>Civil Engineering</td>\n",
       "      <td>No</td>\n",
       "      <td>Neutral</td>\n",
       "      <td>Neutral</td>\n",
       "      <td>Neutral</td>\n",
       "      <td>Neutral</td>\n",
       "      <td>Neutral</td>\n",
       "      <td>Neutral</td>\n",
       "      <td>4.022359</td>\n",
       "      <td>3.777755</td>\n",
       "      <td>Yes</td>\n",
       "      <td>No</td>\n",
       "      <td>-0.244605</td>\n",
       "    </tr>\n",
       "  </tbody>\n",
       "</table>\n",
       "</div>"
      ],
      "text/plain": [
       "      level    age  gender marital_status             faculty  \\\n",
       "0  400level  22–24  Female         Single  Management Science   \n",
       "1  300level  19–21    Male         Single             Science   \n",
       "2  300level  25–27    Male         Single             Science   \n",
       "3  400level  22–24    Male         Single             Science   \n",
       "4  200level  16–18  Female        Married         Engineering   \n",
       "\n",
       "          department skill prep_before prep_after quality_before  \\\n",
       "0           Finance    Yes     Neutral       Poor        Neutral   \n",
       "1        Statistics    Yes        Good       Good           Good   \n",
       "2            Botany    Yes        Good    Neutral        Neutral   \n",
       "3        Geophysics     No        Poor    Neutral        Neutral   \n",
       "4  Civil Engineering    No     Neutral    Neutral        Neutral   \n",
       "\n",
       "  quality_after confidence_before confidence_after  cgpa_before  cgpa_after  \\\n",
       "0          Poor              Good          Neutral     3.997469    3.919087   \n",
       "1          Good              Good             Good     3.995620    3.968665   \n",
       "2          Poor              Good          Neutral     4.031612    3.585951   \n",
       "3          Poor           Neutral             Poor     3.959860    4.051120   \n",
       "4       Neutral           Neutral          Neutral     4.022359    3.777755   \n",
       "\n",
       "  employment quit_job  cgpa_change  \n",
       "0        Yes       No    -0.078382  \n",
       "1        Yes       No    -0.026955  \n",
       "2         No       No    -0.445661  \n",
       "3         No       No     0.091260  \n",
       "4        Yes       No    -0.244605  "
      ]
     },
     "execution_count": 150,
     "metadata": {},
     "output_type": "execute_result"
    }
   ],
   "source": [
    "file = \"expanded_sample.csv\"\n",
    "df = pd.read_csv(file)\n",
    "df.head()"
   ]
  },
  {
   "attachments": {},
   "cell_type": "markdown",
   "metadata": {},
   "source": [
    "## Build Models"
   ]
  },
  {
   "attachments": {},
   "cell_type": "markdown",
   "metadata": {},
   "source": [
    "### Linear Regression"
   ]
  },
  {
   "cell_type": "code",
   "execution_count": 151,
   "metadata": {},
   "outputs": [],
   "source": [
    "df_lin_reg = df.drop(columns=[\"cgpa_before\", \"cgpa_after\"])"
   ]
  },
  {
   "cell_type": "code",
   "execution_count": 152,
   "metadata": {},
   "outputs": [],
   "source": [
    "# One-hot encode categorical features\n",
    "encoder = OneHotEncoder()\n",
    "encoded_df = encoder.fit_transform(df_lin_reg.drop(columns=\"cgpa_change\"))\n",
    "encoded_df = pd.DataFrame(encoded_df.toarray(), columns=encoder.get_feature_names_out(df_lin_reg.drop(columns=\"cgpa_change\").columns))\n",
    "df_lin_reg = pd.concat([df_lin_reg, encoded_df], axis=1)"
   ]
  },
  {
   "cell_type": "markdown",
   "metadata": {},
   "source": [
    "#### Select features and target"
   ]
  },
  {
   "cell_type": "code",
   "execution_count": 153,
   "metadata": {},
   "outputs": [],
   "source": [
    "target = \"cgpa_change\"\n",
    "X_lr = df_lin_reg.drop(columns=target)\n",
    "y_lr = df_lin_reg[target]"
   ]
  },
  {
   "cell_type": "markdown",
   "metadata": {},
   "source": [
    "Split data into test and training sets"
   ]
  },
  {
   "cell_type": "code",
   "execution_count": 154,
   "metadata": {},
   "outputs": [],
   "source": [
    "X_train_lr, X_test_lr, y_train_lr, y_test_lr = train_test_split(X_lr, y_lr, test_size=0.2, random_state=42)"
   ]
  },
  {
   "cell_type": "markdown",
   "metadata": {},
   "source": [
    "Split training data into training and validation data"
   ]
  },
  {
   "cell_type": "code",
   "execution_count": 155,
   "metadata": {},
   "outputs": [],
   "source": [
    "X_train_lr, X_val_lr, y_train_lr, y_val_lr = train_test_split(\n",
    "        X_train_lr, y_train_lr, test_size=0.2, random_state=42\n",
    ")"
   ]
  },
  {
   "cell_type": "markdown",
   "metadata": {},
   "source": [
    "Make pipeline"
   ]
  },
  {
   "cell_type": "code",
   "execution_count": 156,
   "metadata": {},
   "outputs": [],
   "source": [
    "# create the column transformer to one-hot encode the categorical features\n",
    "categorical_features = X_lr.columns\n",
    "preprocessor = ColumnTransformer(\n",
    "    transformers=[('cat', OneHotEncoder(), categorical_features)], remainder='passthrough')"
   ]
  },
  {
   "cell_type": "code",
   "execution_count": 157,
   "metadata": {},
   "outputs": [
    {
     "data": {
      "text/html": [
       "<style>#sk-container-id-12 {color: black;background-color: white;}#sk-container-id-12 pre{padding: 0;}#sk-container-id-12 div.sk-toggleable {background-color: white;}#sk-container-id-12 label.sk-toggleable__label {cursor: pointer;display: block;width: 100%;margin-bottom: 0;padding: 0.3em;box-sizing: border-box;text-align: center;}#sk-container-id-12 label.sk-toggleable__label-arrow:before {content: \"▸\";float: left;margin-right: 0.25em;color: #696969;}#sk-container-id-12 label.sk-toggleable__label-arrow:hover:before {color: black;}#sk-container-id-12 div.sk-estimator:hover label.sk-toggleable__label-arrow:before {color: black;}#sk-container-id-12 div.sk-toggleable__content {max-height: 0;max-width: 0;overflow: hidden;text-align: left;background-color: #f0f8ff;}#sk-container-id-12 div.sk-toggleable__content pre {margin: 0.2em;color: black;border-radius: 0.25em;background-color: #f0f8ff;}#sk-container-id-12 input.sk-toggleable__control:checked~div.sk-toggleable__content {max-height: 200px;max-width: 100%;overflow: auto;}#sk-container-id-12 input.sk-toggleable__control:checked~label.sk-toggleable__label-arrow:before {content: \"▾\";}#sk-container-id-12 div.sk-estimator input.sk-toggleable__control:checked~label.sk-toggleable__label {background-color: #d4ebff;}#sk-container-id-12 div.sk-label input.sk-toggleable__control:checked~label.sk-toggleable__label {background-color: #d4ebff;}#sk-container-id-12 input.sk-hidden--visually {border: 0;clip: rect(1px 1px 1px 1px);clip: rect(1px, 1px, 1px, 1px);height: 1px;margin: -1px;overflow: hidden;padding: 0;position: absolute;width: 1px;}#sk-container-id-12 div.sk-estimator {font-family: monospace;background-color: #f0f8ff;border: 1px dotted black;border-radius: 0.25em;box-sizing: border-box;margin-bottom: 0.5em;}#sk-container-id-12 div.sk-estimator:hover {background-color: #d4ebff;}#sk-container-id-12 div.sk-parallel-item::after {content: \"\";width: 100%;border-bottom: 1px solid gray;flex-grow: 1;}#sk-container-id-12 div.sk-label:hover label.sk-toggleable__label {background-color: #d4ebff;}#sk-container-id-12 div.sk-serial::before {content: \"\";position: absolute;border-left: 1px solid gray;box-sizing: border-box;top: 0;bottom: 0;left: 50%;z-index: 0;}#sk-container-id-12 div.sk-serial {display: flex;flex-direction: column;align-items: center;background-color: white;padding-right: 0.2em;padding-left: 0.2em;position: relative;}#sk-container-id-12 div.sk-item {position: relative;z-index: 1;}#sk-container-id-12 div.sk-parallel {display: flex;align-items: stretch;justify-content: center;background-color: white;position: relative;}#sk-container-id-12 div.sk-item::before, #sk-container-id-12 div.sk-parallel-item::before {content: \"\";position: absolute;border-left: 1px solid gray;box-sizing: border-box;top: 0;bottom: 0;left: 50%;z-index: -1;}#sk-container-id-12 div.sk-parallel-item {display: flex;flex-direction: column;z-index: 1;position: relative;background-color: white;}#sk-container-id-12 div.sk-parallel-item:first-child::after {align-self: flex-end;width: 50%;}#sk-container-id-12 div.sk-parallel-item:last-child::after {align-self: flex-start;width: 50%;}#sk-container-id-12 div.sk-parallel-item:only-child::after {width: 0;}#sk-container-id-12 div.sk-dashed-wrapped {border: 1px dashed gray;margin: 0 0.4em 0.5em 0.4em;box-sizing: border-box;padding-bottom: 0.4em;background-color: white;}#sk-container-id-12 div.sk-label label {font-family: monospace;font-weight: bold;display: inline-block;line-height: 1.2em;}#sk-container-id-12 div.sk-label-container {text-align: center;}#sk-container-id-12 div.sk-container {/* jupyter's `normalize.less` sets `[hidden] { display: none; }` but bootstrap.min.css set `[hidden] { display: none !important; }` so we also need the `!important` here to be able to override the default hidden behavior on the sphinx rendered scikit-learn.org. See: https://github.com/scikit-learn/scikit-learn/issues/21755 */display: inline-block !important;position: relative;}#sk-container-id-12 div.sk-text-repr-fallback {display: none;}</style><div id=\"sk-container-id-12\" class=\"sk-top-container\"><div class=\"sk-text-repr-fallback\"><pre>Pipeline(steps=[(&#x27;preprocessor&#x27;,\n",
       "                 ColumnTransformer(remainder=&#x27;passthrough&#x27;,\n",
       "                                   transformers=[(&#x27;cat&#x27;, OneHotEncoder(),\n",
       "                                                  Index([&#x27;level&#x27;, &#x27;age&#x27;, &#x27;gender&#x27;, &#x27;marital_status&#x27;, &#x27;faculty&#x27;, &#x27;department&#x27;,\n",
       "       &#x27;skill&#x27;, &#x27;prep_before&#x27;, &#x27;prep_after&#x27;, &#x27;quality_before&#x27;, &#x27;quality_after&#x27;,\n",
       "       &#x27;confidence_before&#x27;, &#x27;confidence_after&#x27;, &#x27;employment&#x27;, &#x27;quit_job&#x27;,\n",
       "       &#x27;level_200level&#x27;, &#x27;level_300level&#x27;, &#x27;lev...\n",
       "       &#x27;quality_before_Good&#x27;, &#x27;quality_before_Neutral&#x27;, &#x27;quality_before_Poor&#x27;,\n",
       "       &#x27;quality_after_Good&#x27;, &#x27;quality_after_Neutral&#x27;, &#x27;quality_after_Poor&#x27;,\n",
       "       &#x27;confidence_before_Good&#x27;, &#x27;confidence_before_Neutral&#x27;,\n",
       "       &#x27;confidence_after_Good&#x27;, &#x27;confidence_after_Neutral&#x27;,\n",
       "       &#x27;confidence_after_Poor&#x27;, &#x27;employment_No&#x27;, &#x27;employment_Yes&#x27;,\n",
       "       &#x27;quit_job_No&#x27;, &#x27;quit_job_Yes&#x27;],\n",
       "      dtype=&#x27;object&#x27;))])),\n",
       "                (&#x27;regressor&#x27;, LinearRegression())])</pre><b>In a Jupyter environment, please rerun this cell to show the HTML representation or trust the notebook. <br />On GitHub, the HTML representation is unable to render, please try loading this page with nbviewer.org.</b></div><div class=\"sk-container\" hidden><div class=\"sk-item sk-dashed-wrapped\"><div class=\"sk-label-container\"><div class=\"sk-label sk-toggleable\"><input class=\"sk-toggleable__control sk-hidden--visually\" id=\"sk-estimator-id-50\" type=\"checkbox\" ><label for=\"sk-estimator-id-50\" class=\"sk-toggleable__label sk-toggleable__label-arrow\">Pipeline</label><div class=\"sk-toggleable__content\"><pre>Pipeline(steps=[(&#x27;preprocessor&#x27;,\n",
       "                 ColumnTransformer(remainder=&#x27;passthrough&#x27;,\n",
       "                                   transformers=[(&#x27;cat&#x27;, OneHotEncoder(),\n",
       "                                                  Index([&#x27;level&#x27;, &#x27;age&#x27;, &#x27;gender&#x27;, &#x27;marital_status&#x27;, &#x27;faculty&#x27;, &#x27;department&#x27;,\n",
       "       &#x27;skill&#x27;, &#x27;prep_before&#x27;, &#x27;prep_after&#x27;, &#x27;quality_before&#x27;, &#x27;quality_after&#x27;,\n",
       "       &#x27;confidence_before&#x27;, &#x27;confidence_after&#x27;, &#x27;employment&#x27;, &#x27;quit_job&#x27;,\n",
       "       &#x27;level_200level&#x27;, &#x27;level_300level&#x27;, &#x27;lev...\n",
       "       &#x27;quality_before_Good&#x27;, &#x27;quality_before_Neutral&#x27;, &#x27;quality_before_Poor&#x27;,\n",
       "       &#x27;quality_after_Good&#x27;, &#x27;quality_after_Neutral&#x27;, &#x27;quality_after_Poor&#x27;,\n",
       "       &#x27;confidence_before_Good&#x27;, &#x27;confidence_before_Neutral&#x27;,\n",
       "       &#x27;confidence_after_Good&#x27;, &#x27;confidence_after_Neutral&#x27;,\n",
       "       &#x27;confidence_after_Poor&#x27;, &#x27;employment_No&#x27;, &#x27;employment_Yes&#x27;,\n",
       "       &#x27;quit_job_No&#x27;, &#x27;quit_job_Yes&#x27;],\n",
       "      dtype=&#x27;object&#x27;))])),\n",
       "                (&#x27;regressor&#x27;, LinearRegression())])</pre></div></div></div><div class=\"sk-serial\"><div class=\"sk-item sk-dashed-wrapped\"><div class=\"sk-label-container\"><div class=\"sk-label sk-toggleable\"><input class=\"sk-toggleable__control sk-hidden--visually\" id=\"sk-estimator-id-51\" type=\"checkbox\" ><label for=\"sk-estimator-id-51\" class=\"sk-toggleable__label sk-toggleable__label-arrow\">preprocessor: ColumnTransformer</label><div class=\"sk-toggleable__content\"><pre>ColumnTransformer(remainder=&#x27;passthrough&#x27;,\n",
       "                  transformers=[(&#x27;cat&#x27;, OneHotEncoder(),\n",
       "                                 Index([&#x27;level&#x27;, &#x27;age&#x27;, &#x27;gender&#x27;, &#x27;marital_status&#x27;, &#x27;faculty&#x27;, &#x27;department&#x27;,\n",
       "       &#x27;skill&#x27;, &#x27;prep_before&#x27;, &#x27;prep_after&#x27;, &#x27;quality_before&#x27;, &#x27;quality_after&#x27;,\n",
       "       &#x27;confidence_before&#x27;, &#x27;confidence_after&#x27;, &#x27;employment&#x27;, &#x27;quit_job&#x27;,\n",
       "       &#x27;level_200level&#x27;, &#x27;level_300level&#x27;, &#x27;level_400level&#x27;, &#x27;level_500level.&#x27;,\n",
       "       &#x27;...\n",
       "       &#x27;prep_after_Good&#x27;, &#x27;prep_after_Neutral&#x27;, &#x27;prep_after_Poor&#x27;,\n",
       "       &#x27;quality_before_Good&#x27;, &#x27;quality_before_Neutral&#x27;, &#x27;quality_before_Poor&#x27;,\n",
       "       &#x27;quality_after_Good&#x27;, &#x27;quality_after_Neutral&#x27;, &#x27;quality_after_Poor&#x27;,\n",
       "       &#x27;confidence_before_Good&#x27;, &#x27;confidence_before_Neutral&#x27;,\n",
       "       &#x27;confidence_after_Good&#x27;, &#x27;confidence_after_Neutral&#x27;,\n",
       "       &#x27;confidence_after_Poor&#x27;, &#x27;employment_No&#x27;, &#x27;employment_Yes&#x27;,\n",
       "       &#x27;quit_job_No&#x27;, &#x27;quit_job_Yes&#x27;],\n",
       "      dtype=&#x27;object&#x27;))])</pre></div></div></div><div class=\"sk-parallel\"><div class=\"sk-parallel-item\"><div class=\"sk-item\"><div class=\"sk-label-container\"><div class=\"sk-label sk-toggleable\"><input class=\"sk-toggleable__control sk-hidden--visually\" id=\"sk-estimator-id-52\" type=\"checkbox\" ><label for=\"sk-estimator-id-52\" class=\"sk-toggleable__label sk-toggleable__label-arrow\">cat</label><div class=\"sk-toggleable__content\"><pre>Index([&#x27;level&#x27;, &#x27;age&#x27;, &#x27;gender&#x27;, &#x27;marital_status&#x27;, &#x27;faculty&#x27;, &#x27;department&#x27;,\n",
       "       &#x27;skill&#x27;, &#x27;prep_before&#x27;, &#x27;prep_after&#x27;, &#x27;quality_before&#x27;, &#x27;quality_after&#x27;,\n",
       "       &#x27;confidence_before&#x27;, &#x27;confidence_after&#x27;, &#x27;employment&#x27;, &#x27;quit_job&#x27;,\n",
       "       &#x27;level_200level&#x27;, &#x27;level_300level&#x27;, &#x27;level_400level&#x27;, &#x27;level_500level.&#x27;,\n",
       "       &#x27;age_16–18&#x27;, &#x27;age_19–21&#x27;, &#x27;age_22–24&#x27;, &#x27;age_25–27&#x27;, &#x27;gender_Female&#x27;,\n",
       "       &#x27;gender_Male&#x27;, &#x27;marital_status_Married&#x27;, &#x27;marital_status_Single&#x27;,\n",
       "       &#x27;faculty_Education&#x27;, &#x27;faculty_Engineering&#x27;, &#x27;faculty_Law&#x27;,\n",
       "       &#x27;faculty_Management Science&#x27;, &#x27;faculty_Science&#x27;,\n",
       "       &#x27;department_Art and social sciences Education &#x27;, &#x27;department_Botany &#x27;,\n",
       "       &#x27;department_Cell Biology and Genetics&#x27;, &#x27;department_Civil Engineering&#x27;,\n",
       "       &#x27;department_Educational foundations &#x27;, &#x27;department_Finance &#x27;,\n",
       "       &#x27;department_Geophysics &#x27;, &#x27;department_Law&#x27;,\n",
       "       &#x27;department_Marine  science&#x27;, &#x27;department_Statistics &#x27;,\n",
       "       &#x27;department_accounting &#x27;, &#x27;skill_No&#x27;, &#x27;skill_No Skill&#x27;, &#x27;skill_Yes&#x27;,\n",
       "       &#x27;prep_before_Good&#x27;, &#x27;prep_before_Neutral&#x27;, &#x27;prep_before_Poor&#x27;,\n",
       "       &#x27;prep_after_Good&#x27;, &#x27;prep_after_Neutral&#x27;, &#x27;prep_after_Poor&#x27;,\n",
       "       &#x27;quality_before_Good&#x27;, &#x27;quality_before_Neutral&#x27;, &#x27;quality_before_Poor&#x27;,\n",
       "       &#x27;quality_after_Good&#x27;, &#x27;quality_after_Neutral&#x27;, &#x27;quality_after_Poor&#x27;,\n",
       "       &#x27;confidence_before_Good&#x27;, &#x27;confidence_before_Neutral&#x27;,\n",
       "       &#x27;confidence_after_Good&#x27;, &#x27;confidence_after_Neutral&#x27;,\n",
       "       &#x27;confidence_after_Poor&#x27;, &#x27;employment_No&#x27;, &#x27;employment_Yes&#x27;,\n",
       "       &#x27;quit_job_No&#x27;, &#x27;quit_job_Yes&#x27;],\n",
       "      dtype=&#x27;object&#x27;)</pre></div></div></div><div class=\"sk-serial\"><div class=\"sk-item\"><div class=\"sk-estimator sk-toggleable\"><input class=\"sk-toggleable__control sk-hidden--visually\" id=\"sk-estimator-id-53\" type=\"checkbox\" ><label for=\"sk-estimator-id-53\" class=\"sk-toggleable__label sk-toggleable__label-arrow\">OneHotEncoder</label><div class=\"sk-toggleable__content\"><pre>OneHotEncoder()</pre></div></div></div></div></div></div><div class=\"sk-parallel-item\"><div class=\"sk-item\"><div class=\"sk-label-container\"><div class=\"sk-label sk-toggleable\"><input class=\"sk-toggleable__control sk-hidden--visually\" id=\"sk-estimator-id-54\" type=\"checkbox\" ><label for=\"sk-estimator-id-54\" class=\"sk-toggleable__label sk-toggleable__label-arrow\">remainder</label><div class=\"sk-toggleable__content\"><pre>[]</pre></div></div></div><div class=\"sk-serial\"><div class=\"sk-item\"><div class=\"sk-estimator sk-toggleable\"><input class=\"sk-toggleable__control sk-hidden--visually\" id=\"sk-estimator-id-55\" type=\"checkbox\" ><label for=\"sk-estimator-id-55\" class=\"sk-toggleable__label sk-toggleable__label-arrow\">passthrough</label><div class=\"sk-toggleable__content\"><pre>passthrough</pre></div></div></div></div></div></div></div></div><div class=\"sk-item\"><div class=\"sk-estimator sk-toggleable\"><input class=\"sk-toggleable__control sk-hidden--visually\" id=\"sk-estimator-id-56\" type=\"checkbox\" ><label for=\"sk-estimator-id-56\" class=\"sk-toggleable__label sk-toggleable__label-arrow\">LinearRegression</label><div class=\"sk-toggleable__content\"><pre>LinearRegression()</pre></div></div></div></div></div></div></div>"
      ],
      "text/plain": [
       "Pipeline(steps=[('preprocessor',\n",
       "                 ColumnTransformer(remainder='passthrough',\n",
       "                                   transformers=[('cat', OneHotEncoder(),\n",
       "                                                  Index(['level', 'age', 'gender', 'marital_status', 'faculty', 'department',\n",
       "       'skill', 'prep_before', 'prep_after', 'quality_before', 'quality_after',\n",
       "       'confidence_before', 'confidence_after', 'employment', 'quit_job',\n",
       "       'level_200level', 'level_300level', 'lev...\n",
       "       'quality_before_Good', 'quality_before_Neutral', 'quality_before_Poor',\n",
       "       'quality_after_Good', 'quality_after_Neutral', 'quality_after_Poor',\n",
       "       'confidence_before_Good', 'confidence_before_Neutral',\n",
       "       'confidence_after_Good', 'confidence_after_Neutral',\n",
       "       'confidence_after_Poor', 'employment_No', 'employment_Yes',\n",
       "       'quit_job_No', 'quit_job_Yes'],\n",
       "      dtype='object'))])),\n",
       "                ('regressor', LinearRegression())])"
      ]
     },
     "execution_count": 157,
     "metadata": {},
     "output_type": "execute_result"
    }
   ],
   "source": [
    "# create the linear regression model\n",
    "model = Pipeline(steps=[('preprocessor', preprocessor),\n",
    "                        ('regressor', LinearRegression())])\n",
    "\n",
    "\n",
    "# fit the model to the training data\n",
    "model.fit(X_train_lr, y_train_lr)"
   ]
  },
  {
   "cell_type": "code",
   "execution_count": 158,
   "metadata": {},
   "outputs": [
    {
     "name": "stdout",
     "output_type": "stream",
     "text": [
      "\n",
      "Baseline MSE: 0.06921 \n",
      "Training MSE: 0.06976\n"
     ]
    }
   ],
   "source": [
    "# evaluate the model's performance on the training data\n",
    "y_train_lr_mean = y_train_lr.mean()\n",
    "y_train_lr_baseline = [y_train_lr_mean]*len(y_train_lr)\n",
    "baseline_mse = mean_squared_error(y_train_lr, y_train_lr_baseline)\n",
    "training_mse = mean_squared_error(y_train_lr, model.predict(X_train_lr))\n",
    "print(f\"\"\"\n",
    "Baseline MSE: {round(baseline_mse, 5)} \n",
    "Training MSE: {round(training_mse, 5)}\"\"\")"
   ]
  },
  {
   "cell_type": "code",
   "execution_count": 159,
   "metadata": {},
   "outputs": [
    {
     "name": "stdout",
     "output_type": "stream",
     "text": [
      "\n",
      "Baseline MSE: 0.06921 \n",
      "Training MSE: 0.06976\n",
      "Validation MSE: 0.07805\n"
     ]
    }
   ],
   "source": [
    "# predict the target variable for the validation data\n",
    "y_pred_val = model.predict(X_val_lr)\n",
    "\n",
    "\n",
    "# evaluate the model's performance on the validation data\n",
    "y_val_mean = y_val_lr.mean()\n",
    "y_val_baseline = [y_val_mean]*len(y_val_lr)\n",
    "val_mse = mean_squared_error(y_val_lr, y_pred_val)\n",
    "\n",
    "print(f\"\"\"\n",
    "Baseline MSE: {round(baseline_mse, 5)} \n",
    "Training MSE: {round(training_mse, 5)}\n",
    "Validation MSE: {round(val_mse, 5)}\"\"\")"
   ]
  },
  {
   "cell_type": "code",
   "execution_count": 160,
   "metadata": {},
   "outputs": [
    {
     "name": "stdout",
     "output_type": "stream",
     "text": [
      "Mean MSE: 0.07259\n",
      "Standard deviation of MSE: 0.00534\n"
     ]
    }
   ],
   "source": [
    "# perform k-fold cross-validation\n",
    "from sklearn.model_selection import cross_val_score\n",
    "\n",
    "\n",
    "scores = cross_val_score(model, X_lr, y_lr, cv=5, scoring='neg_mean_squared_error')\n",
    "\n",
    "# calculate the mean and standard deviation of the scores\n",
    "mean_mse = np.mean(-scores)\n",
    "std_mse = np.std(-scores)\n",
    "\n",
    "# print the mean and standard deviation of the scores\n",
    "print(f\"Mean MSE: {mean_mse:.5f}\")\n",
    "print(f\"Standard deviation of MSE: {std_mse:.5f}\")"
   ]
  },
  {
   "cell_type": "code",
   "execution_count": 161,
   "metadata": {},
   "outputs": [
    {
     "data": {
      "text/plain": [
       "Text(0, 0.5, 'Residuals')"
      ]
     },
     "execution_count": 161,
     "metadata": {},
     "output_type": "execute_result"
    },
    {
     "data": {
      "image/png": "[encoded data removed]",
      "text/plain": [
       "<Figure size 640x480 with 1 Axes>"
      ]
     },
     "metadata": {},
     "output_type": "display_data"
    }
   ],
   "source": [
    "# calculate the residuals\n",
    "residuals = y_val_lr - y_pred_val\n",
    "\n",
    "# plot the residuals\n",
    "plt.scatter(y_val_lr, residuals)\n",
    "plt.axhline(y=0, color='r', linestyle='-')\n",
    "plt.xlabel('Actual values')\n",
    "plt.ylabel('Residuals')"
   ]
  },
  {
   "cell_type": "code",
   "execution_count": 162,
   "metadata": {},
   "outputs": [
    {
     "data": {
      "text/plain": [
       "0.07804896108679454"
      ]
     },
     "execution_count": 162,
     "metadata": {},
     "output_type": "execute_result"
    }
   ],
   "source": [
    "# evaluate the model's performance on the test data\n",
    "mse = mean_squared_error(y_val_lr, y_pred_val)\n",
    "mse"
   ]
  },
  {
   "attachments": {},
   "cell_type": "markdown",
   "metadata": {},
   "source": [
    "### Decision Tree Classifier"
   ]
  },
  {
   "attachments": {},
   "cell_type": "markdown",
   "metadata": {},
   "source": [
    "### Recategorise data\n",
    "\n",
    "Check only if CGPA dropped or not."
   ]
  },
  {
   "cell_type": "code",
   "execution_count": 163,
   "metadata": {},
   "outputs": [],
   "source": [
    "def rise_or_drop(val):  \n",
    "        \n",
    "    if val > 0:\n",
    "        category= 0 # CGPA rose\n",
    "    else:\n",
    "        category= 1 # CGPA dropped\n",
    "    \n",
    "    return category"
   ]
  },
  {
   "cell_type": "code",
   "execution_count": 164,
   "metadata": {},
   "outputs": [],
   "source": [
    "def categorize_change(val):\n",
    "    category = \"\"\n",
    "\n",
    "    if abs(val) >= 1:\n",
    "        category+=\"EXTREME\"\n",
    "    elif abs(val) >= 0.5:\n",
    "        category+=\"VERY HIGH\"\n",
    "    elif abs(val) >= 0.2:\n",
    "        category+=\"HIGH\"\n",
    "    elif abs(val) >= 0.1:\n",
    "        category+=\"MEDIUM\"\n",
    "    elif abs(val) >= 0.05:\n",
    "        category+=\"LOW\"\n",
    "    else:\n",
    "        category+=\" VERY LOW\"\n",
    "        \n",
    "    if val > 0:\n",
    "        category+= \"-RISE\"\n",
    "    else:\n",
    "        category+= \"-DROP\"\n",
    "    \n",
    "    return category"
   ]
  },
  {
   "cell_type": "code",
   "execution_count": 165,
   "metadata": {},
   "outputs": [],
   "source": [
    "cat_df = df.drop(columns=[\"cgpa_before\", \"cgpa_after\"])\n",
    "cat_df[\"cgpa_drop\"] = cat_df[\"cgpa_change\"].apply(categorize_change)\n",
    "cat_df.drop(columns=\"cgpa_change\", inplace=True)"
   ]
  },
  {
   "cell_type": "code",
   "execution_count": 166,
   "metadata": {},
   "outputs": [],
   "source": [
    "target = \"cgpa_drop\"\n",
    "X_dt = cat_df.drop(columns=target)\n",
    "y_dt = cat_df[target]"
   ]
  },
  {
   "cell_type": "code",
   "execution_count": 167,
   "metadata": {},
   "outputs": [],
   "source": [
    "X_train_dt, X_test_dt, y_train_dt, y_test_dt= train_test_split(X_dt, y_dt, test_size=0.2, random_state=42)\n",
    "\n",
    "X_train_dt, X_val_dt, y_train_dt, y_val_dt = train_test_split(\n",
    "        X_train_dt, y_train_dt, test_size=0.2, random_state=42\n",
    ")"
   ]
  },
  {
   "cell_type": "code",
   "execution_count": 168,
   "metadata": {},
   "outputs": [
    {
     "name": "stdout",
     "output_type": "stream",
     "text": [
      "Baseline Accuracy: 0.35\n"
     ]
    }
   ],
   "source": [
    "acc_baseline = y_train_dt.value_counts(normalize = True).max()\n",
    "print(\"Baseline Accuracy:\", round(acc_baseline, 2))"
   ]
  },
  {
   "cell_type": "code",
   "execution_count": 169,
   "metadata": {},
   "outputs": [
    {
     "name": "stdout",
     "output_type": "stream",
     "text": [
      "Training Accuracy Scores: [0.34801136363636365, 0.34801136363636365, 0.34801136363636365]\n",
      "Validation Accuracy Scores: [0.3380681818181818, 0.3380681818181818, 0.3380681818181818]\n",
      "Max Validation Accuracy Score: 0.3380681818181818\n",
      "Optimal Depth: 6\n"
     ]
    }
   ],
   "source": [
    "# Create empty lists for training and validation accuracy scores\n",
    "training_acc = []\n",
    "validation_acc = []\n",
    "depth_hyperparams = range(1, 50, 2)\n",
    "\n",
    "for d in depth_hyperparams:\n",
    "    # Create model with `max_depth` of `d`\n",
    "    test_model = model = make_pipeline(\n",
    "        OrdinalEncoder(), \n",
    "        DecisionTreeClassifier(max_depth=d, random_state=42)\n",
    "    )\n",
    "    # Fit model to training data\n",
    "    test_model.fit(X_train_dt, y_train_dt)\n",
    "    # Calculate training accuracy score and append to `training_acc`\n",
    "    training_acc.append(test_model.score(X_train_dt, y_train_dt))\n",
    "    # Calculate validation accuracy score and append to `training_acc`\n",
    "    validation_acc.append(test_model.score(X_val_dt, y_val_dt))\n",
    "\n",
    "max_val_acc = max(validation_acc)\n",
    "optimal_depth = validation_acc.index(max_val_acc) + 6\n",
    "print(\"Training Accuracy Scores:\", training_acc[:3])\n",
    "print(\"Validation Accuracy Scores:\", validation_acc[:3])\n",
    "print(\"Max Validation Accuracy Score:\", max_val_acc)\n",
    "print(\"Optimal Depth:\", optimal_depth)"
   ]
  },
  {
   "cell_type": "code",
   "execution_count": 170,
   "metadata": {},
   "outputs": [
    {
     "data": {
      "image/png": "[encoded data removed]",
      "text/plain": [
       "<Figure size 640x480 with 1 Axes>"
      ]
     },
     "metadata": {},
     "output_type": "display_data"
    }
   ],
   "source": [
    "# Plot `depth_hyperparams`, `training_acc`\n",
    "plt.plot(depth_hyperparams, training_acc, label=\"training\")\n",
    "plt.plot(depth_hyperparams, validation_acc, label=\"validation\")\n",
    "plt.xlabel(\"Max Depth\")\n",
    "plt.ylabel(\"Accuracy Score\")\n",
    "plt.legend();"
   ]
  },
  {
   "cell_type": "code",
   "execution_count": 171,
   "metadata": {},
   "outputs": [
    {
     "data": {
      "text/html": [
       "<style>#sk-container-id-13 {color: black;background-color: white;}#sk-container-id-13 pre{padding: 0;}#sk-container-id-13 div.sk-toggleable {background-color: white;}#sk-container-id-13 label.sk-toggleable__label {cursor: pointer;display: block;width: 100%;margin-bottom: 0;padding: 0.3em;box-sizing: border-box;text-align: center;}#sk-container-id-13 label.sk-toggleable__label-arrow:before {content: \"▸\";float: left;margin-right: 0.25em;color: #696969;}#sk-container-id-13 label.sk-toggleable__label-arrow:hover:before {color: black;}#sk-container-id-13 div.sk-estimator:hover label.sk-toggleable__label-arrow:before {color: black;}#sk-container-id-13 div.sk-toggleable__content {max-height: 0;max-width: 0;overflow: hidden;text-align: left;background-color: #f0f8ff;}#sk-container-id-13 div.sk-toggleable__content pre {margin: 0.2em;color: black;border-radius: 0.25em;background-color: #f0f8ff;}#sk-container-id-13 input.sk-toggleable__control:checked~div.sk-toggleable__content {max-height: 200px;max-width: 100%;overflow: auto;}#sk-container-id-13 input.sk-toggleable__control:checked~label.sk-toggleable__label-arrow:before {content: \"▾\";}#sk-container-id-13 div.sk-estimator input.sk-toggleable__control:checked~label.sk-toggleable__label {background-color: #d4ebff;}#sk-container-id-13 div.sk-label input.sk-toggleable__control:checked~label.sk-toggleable__label {background-color: #d4ebff;}#sk-container-id-13 input.sk-hidden--visually {border: 0;clip: rect(1px 1px 1px 1px);clip: rect(1px, 1px, 1px, 1px);height: 1px;margin: -1px;overflow: hidden;padding: 0;position: absolute;width: 1px;}#sk-container-id-13 div.sk-estimator {font-family: monospace;background-color: #f0f8ff;border: 1px dotted black;border-radius: 0.25em;box-sizing: border-box;margin-bottom: 0.5em;}#sk-container-id-13 div.sk-estimator:hover {background-color: #d4ebff;}#sk-container-id-13 div.sk-parallel-item::after {content: \"\";width: 100%;border-bottom: 1px solid gray;flex-grow: 1;}#sk-container-id-13 div.sk-label:hover label.sk-toggleable__label {background-color: #d4ebff;}#sk-container-id-13 div.sk-serial::before {content: \"\";position: absolute;border-left: 1px solid gray;box-sizing: border-box;top: 0;bottom: 0;left: 50%;z-index: 0;}#sk-container-id-13 div.sk-serial {display: flex;flex-direction: column;align-items: center;background-color: white;padding-right: 0.2em;padding-left: 0.2em;position: relative;}#sk-container-id-13 div.sk-item {position: relative;z-index: 1;}#sk-container-id-13 div.sk-parallel {display: flex;align-items: stretch;justify-content: center;background-color: white;position: relative;}#sk-container-id-13 div.sk-item::before, #sk-container-id-13 div.sk-parallel-item::before {content: \"\";position: absolute;border-left: 1px solid gray;box-sizing: border-box;top: 0;bottom: 0;left: 50%;z-index: -1;}#sk-container-id-13 div.sk-parallel-item {display: flex;flex-direction: column;z-index: 1;position: relative;background-color: white;}#sk-container-id-13 div.sk-parallel-item:first-child::after {align-self: flex-end;width: 50%;}#sk-container-id-13 div.sk-parallel-item:last-child::after {align-self: flex-start;width: 50%;}#sk-container-id-13 div.sk-parallel-item:only-child::after {width: 0;}#sk-container-id-13 div.sk-dashed-wrapped {border: 1px dashed gray;margin: 0 0.4em 0.5em 0.4em;box-sizing: border-box;padding-bottom: 0.4em;background-color: white;}#sk-container-id-13 div.sk-label label {font-family: monospace;font-weight: bold;display: inline-block;line-height: 1.2em;}#sk-container-id-13 div.sk-label-container {text-align: center;}#sk-container-id-13 div.sk-container {/* jupyter's `normalize.less` sets `[hidden] { display: none; }` but bootstrap.min.css set `[hidden] { display: none !important; }` so we also need the `!important` here to be able to override the default hidden behavior on the sphinx rendered scikit-learn.org. See: https://github.com/scikit-learn/scikit-learn/issues/21755 */display: inline-block !important;position: relative;}#sk-container-id-13 div.sk-text-repr-fallback {display: none;}</style><div id=\"sk-container-id-13\" class=\"sk-top-container\"><div class=\"sk-text-repr-fallback\"><pre>Pipeline(steps=[(&#x27;ordinalencoder&#x27;, OrdinalEncoder()),\n",
       "                (&#x27;decisiontreeclassifier&#x27;,\n",
       "                 DecisionTreeClassifier(max_depth=6, random_state=42))])</pre><b>In a Jupyter environment, please rerun this cell to show the HTML representation or trust the notebook. <br />On GitHub, the HTML representation is unable to render, please try loading this page with nbviewer.org.</b></div><div class=\"sk-container\" hidden><div class=\"sk-item sk-dashed-wrapped\"><div class=\"sk-label-container\"><div class=\"sk-label sk-toggleable\"><input class=\"sk-toggleable__control sk-hidden--visually\" id=\"sk-estimator-id-57\" type=\"checkbox\" ><label for=\"sk-estimator-id-57\" class=\"sk-toggleable__label sk-toggleable__label-arrow\">Pipeline</label><div class=\"sk-toggleable__content\"><pre>Pipeline(steps=[(&#x27;ordinalencoder&#x27;, OrdinalEncoder()),\n",
       "                (&#x27;decisiontreeclassifier&#x27;,\n",
       "                 DecisionTreeClassifier(max_depth=6, random_state=42))])</pre></div></div></div><div class=\"sk-serial\"><div class=\"sk-item\"><div class=\"sk-estimator sk-toggleable\"><input class=\"sk-toggleable__control sk-hidden--visually\" id=\"sk-estimator-id-58\" type=\"checkbox\" ><label for=\"sk-estimator-id-58\" class=\"sk-toggleable__label sk-toggleable__label-arrow\">OrdinalEncoder</label><div class=\"sk-toggleable__content\"><pre>OrdinalEncoder()</pre></div></div></div><div class=\"sk-item\"><div class=\"sk-estimator sk-toggleable\"><input class=\"sk-toggleable__control sk-hidden--visually\" id=\"sk-estimator-id-59\" type=\"checkbox\" ><label for=\"sk-estimator-id-59\" class=\"sk-toggleable__label sk-toggleable__label-arrow\">DecisionTreeClassifier</label><div class=\"sk-toggleable__content\"><pre>DecisionTreeClassifier(max_depth=6, random_state=42)</pre></div></div></div></div></div></div></div>"
      ],
      "text/plain": [
       "Pipeline(steps=[('ordinalencoder', OrdinalEncoder()),\n",
       "                ('decisiontreeclassifier',\n",
       "                 DecisionTreeClassifier(max_depth=6, random_state=42))])"
      ]
     },
     "execution_count": 171,
     "metadata": {},
     "output_type": "execute_result"
    }
   ],
   "source": [
    "dt_model = make_pipeline(\n",
    "    OrdinalEncoder(), \n",
    "    DecisionTreeClassifier(max_depth=optimal_depth, random_state=42)\n",
    ")\n",
    "\n",
    "dt_model.fit(X_train_dt, y_train_dt)"
   ]
  },
  {
   "cell_type": "code",
   "execution_count": 172,
   "metadata": {},
   "outputs": [
    {
     "name": "stdout",
     "output_type": "stream",
     "text": [
      "Training Accuracy: 0.35\n",
      "Validation Accuracy: 0.34\n"
     ]
    }
   ],
   "source": [
    "acc_train = accuracy_score(y_train_dt, dt_model.predict(X_train_dt))\n",
    "acc_val = dt_model.score(X_val_dt, y_val_dt)\n",
    "\n",
    "print(\"Training Accuracy:\", round(acc_train, 2))\n",
    "print(\"Validation Accuracy:\", round(acc_val, 2))"
   ]
  },
  {
   "cell_type": "code",
   "execution_count": 173,
   "metadata": {},
   "outputs": [
    {
     "data": {
      "text/plain": [
       "level               0.107277\n",
       "quality_after       0.111645\n",
       "department          0.173938\n",
       "confidence_after    0.240107\n",
       "skill               0.257353\n",
       "dtype: float64"
      ]
     },
     "execution_count": 173,
     "metadata": {},
     "output_type": "execute_result"
    }
   ],
   "source": [
    "features = X_train_dt.columns\n",
    "importances = dt_model.named_steps[\"decisiontreeclassifier\"].feature_importances_\n",
    "feat_imp = pd.Series(importances, index=features).sort_values()\n",
    "feat_imp.tail()"
   ]
  },
  {
   "cell_type": "code",
   "execution_count": 174,
   "metadata": {},
   "outputs": [
    {
     "data": {
      "image/png": "[encoded data removed]",
      "text/plain": [
       "<Figure size 640x480 with 1 Axes>"
      ]
     },
     "metadata": {},
     "output_type": "display_data"
    }
   ],
   "source": [
    "# Create horizontal bar chart of feature importances\n",
    "feat_imp.plot(kind=\"barh\")\n",
    "plt.xlabel(\"Gini Importance\")\n",
    "plt.ylabel(\"Label\")\n",
    "plt.title(\"Most Important Determiners of Academic Performance\");"
   ]
  },
  {
   "cell_type": "code",
   "execution_count": 179,
   "metadata": {},
   "outputs": [
    {
     "data": {
      "text/plain": [
       "0.32045454545454544"
      ]
     },
     "execution_count": 179,
     "metadata": {},
     "output_type": "execute_result"
    }
   ],
   "source": [
    "predictions = dt_model.predict(X_test_dt)\n",
    "\n",
    "accuracy_score(predictions, y_test_dt)"
   ]
  }
 ],
 "metadata": {
  "kernelspec": {
   "display_name": "Python 3",
   "language": "python",
   "name": "python3"
  },
  "language_info": {
   "codemirror_mode": {
    "name": "ipython",
    "version": 3
   },
   "file_extension": ".py",
   "mimetype": "text/x-python",
   "name": "python",
   "nbconvert_exporter": "python",
   "pygments_lexer": "ipython3",
   "version": "3.10.5"
  },
  "orig_nbformat": 4
 },
 "nbformat": 4,
 "nbformat_minor": 2
}
