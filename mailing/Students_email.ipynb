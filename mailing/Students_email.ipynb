{
  "cells": [
    {
      "cell_type": "markdown",
      "metadata": {
        "colab_type": "text",
        "id": "view-in-github"
      },
      "source": [
        "<a href=\"https://colab.research.google.com/github/socratesjnr/asuu-strike-project/blob/main/Students_email.ipynb\" target=\"_parent\"><img src=\"https://colab.research.google.com/assets/colab-badge.svg\" alt=\"Open In Colab\"/></a>"
      ]
    },
    {
      "attachments": {},
      "cell_type": "markdown",
      "metadata": {
        "id": "cReemJ3f2M7_"
      },
      "source": [
        "# Student Email Generator\n",
        "This program generates a student emails for Unilag students based on their distribution by faculties levels, and departments.        "
      ]
    },
    {
      "cell_type": "code",
      "execution_count": 46,
      "metadata": {
        "id": "A_uezjrkVD_x"
      },
      "outputs": [
        {
          "data": {
            "text/html": [
              "<div>\n",
              "<style scoped>\n",
              "    .dataframe tbody tr th:only-of-type {\n",
              "        vertical-align: middle;\n",
              "    }\n",
              "\n",
              "    .dataframe tbody tr th {\n",
              "        vertical-align: top;\n",
              "    }\n",
              "\n",
              "    .dataframe thead th {\n",
              "        text-align: right;\n",
              "    }\n",
              "</style>\n",
              "<table border=\"1\" class=\"dataframe\">\n",
              "  <thead>\n",
              "    <tr style=\"text-align: right;\">\n",
              "      <th></th>\n",
              "      <th>faculty</th>\n",
              "      <th>student_count</th>\n",
              "      <th>faculty_code</th>\n",
              "      <th>levels</th>\n",
              "      <th>dept_codes</th>\n",
              "      <th>num_of_dept</th>\n",
              "      <th>student_per_dept</th>\n",
              "      <th>student_per_dept_per_level</th>\n",
              "    </tr>\n",
              "  </thead>\n",
              "  <tbody>\n",
              "    <tr>\n",
              "      <th>0</th>\n",
              "      <td>Arts</td>\n",
              "      <td>3750</td>\n",
              "      <td>01</td>\n",
              "      <td>4</td>\n",
              "      <td>[01, 02, 03, 04, 05, 06]</td>\n",
              "      <td>6</td>\n",
              "      <td>625.0</td>\n",
              "      <td>156.0</td>\n",
              "    </tr>\n",
              "    <tr>\n",
              "      <th>1</th>\n",
              "      <td>Basic Medical Sciences</td>\n",
              "      <td>520</td>\n",
              "      <td>09</td>\n",
              "      <td>6</td>\n",
              "      <td>[01, 02, 03, 04, 05, 06]</td>\n",
              "      <td>6</td>\n",
              "      <td>87.0</td>\n",
              "      <td>14.0</td>\n",
              "    </tr>\n",
              "    <tr>\n",
              "      <th>2</th>\n",
              "      <td>Clincal Sciences</td>\n",
              "      <td>1900</td>\n",
              "      <td>07</td>\n",
              "      <td>6</td>\n",
              "      <td>[01, 02, 03, 04, 05, 06, 07, 08, 09, 10, 11, 1...</td>\n",
              "      <td>13</td>\n",
              "      <td>146.0</td>\n",
              "      <td>24.0</td>\n",
              "    </tr>\n",
              "    <tr>\n",
              "      <th>3</th>\n",
              "      <td>Dental Sciences</td>\n",
              "      <td>510</td>\n",
              "      <td>10</td>\n",
              "      <td>6</td>\n",
              "      <td>[01, 02, 03, 04, 05, 06]</td>\n",
              "      <td>6</td>\n",
              "      <td>85.0</td>\n",
              "      <td>14.0</td>\n",
              "    </tr>\n",
              "    <tr>\n",
              "      <th>4</th>\n",
              "      <td>Education</td>\n",
              "      <td>6900</td>\n",
              "      <td>03</td>\n",
              "      <td>4</td>\n",
              "      <td>[01, 02, 03, 04, 05, 06]</td>\n",
              "      <td>6</td>\n",
              "      <td>1150.0</td>\n",
              "      <td>288.0</td>\n",
              "    </tr>\n",
              "    <tr>\n",
              "      <th>5</th>\n",
              "      <td>Engineering</td>\n",
              "      <td>3600</td>\n",
              "      <td>04</td>\n",
              "      <td>5</td>\n",
              "      <td>[01, 02, 03, 04, 05, 06, 07, 08, 09, 10]</td>\n",
              "      <td>10</td>\n",
              "      <td>360.0</td>\n",
              "      <td>72.0</td>\n",
              "    </tr>\n",
              "    <tr>\n",
              "      <th>6</th>\n",
              "      <td>Environmental Sciences</td>\n",
              "      <td>1300</td>\n",
              "      <td>05</td>\n",
              "      <td>5</td>\n",
              "      <td>[01, 02, 03, 04, 05]</td>\n",
              "      <td>5</td>\n",
              "      <td>260.0</td>\n",
              "      <td>52.0</td>\n",
              "    </tr>\n",
              "    <tr>\n",
              "      <th>7</th>\n",
              "      <td>Law</td>\n",
              "      <td>1900</td>\n",
              "      <td>06</td>\n",
              "      <td>5</td>\n",
              "      <td>[01]</td>\n",
              "      <td>1</td>\n",
              "      <td>1900.0</td>\n",
              "      <td>380.0</td>\n",
              "    </tr>\n",
              "    <tr>\n",
              "      <th>8</th>\n",
              "      <td>Management Sciences</td>\n",
              "      <td>4300</td>\n",
              "      <td>02</td>\n",
              "      <td>4</td>\n",
              "      <td>[01, 02, 03, 04, 05]</td>\n",
              "      <td>5</td>\n",
              "      <td>860.0</td>\n",
              "      <td>215.0</td>\n",
              "    </tr>\n",
              "    <tr>\n",
              "      <th>9</th>\n",
              "      <td>Pharmacy</td>\n",
              "      <td>900</td>\n",
              "      <td>12</td>\n",
              "      <td>6</td>\n",
              "      <td>[01, 02, 03, 04, 05, 06]</td>\n",
              "      <td>6</td>\n",
              "      <td>150.0</td>\n",
              "      <td>25.0</td>\n",
              "    </tr>\n",
              "    <tr>\n",
              "      <th>10</th>\n",
              "      <td>Science</td>\n",
              "      <td>5300</td>\n",
              "      <td>08</td>\n",
              "      <td>4</td>\n",
              "      <td>[01, 02, 03, 04, 05, 06, 07, 08, 09, 10, 11]</td>\n",
              "      <td>11</td>\n",
              "      <td>482.0</td>\n",
              "      <td>120.0</td>\n",
              "    </tr>\n",
              "    <tr>\n",
              "      <th>11</th>\n",
              "      <td>Social Sciences</td>\n",
              "      <td>3600</td>\n",
              "      <td>11</td>\n",
              "      <td>4</td>\n",
              "      <td>[01, 02, 03, 04, 05, 06]</td>\n",
              "      <td>6</td>\n",
              "      <td>600.0</td>\n",
              "      <td>150.0</td>\n",
              "    </tr>\n",
              "  </tbody>\n",
              "</table>\n",
              "</div>"
            ],
            "text/plain": [
              "                   faculty  student_count faculty_code  levels  \\\n",
              "0                     Arts           3750           01       4   \n",
              "1   Basic Medical Sciences            520           09       6   \n",
              "2         Clincal Sciences           1900           07       6   \n",
              "3          Dental Sciences            510           10       6   \n",
              "4                Education           6900           03       4   \n",
              "5              Engineering           3600           04       5   \n",
              "6   Environmental Sciences           1300           05       5   \n",
              "7                      Law           1900           06       5   \n",
              "8      Management Sciences           4300           02       4   \n",
              "9                 Pharmacy            900           12       6   \n",
              "10                 Science           5300           08       4   \n",
              "11         Social Sciences           3600           11       4   \n",
              "\n",
              "                                           dept_codes  num_of_dept  \\\n",
              "0                            [01, 02, 03, 04, 05, 06]            6   \n",
              "1                            [01, 02, 03, 04, 05, 06]            6   \n",
              "2   [01, 02, 03, 04, 05, 06, 07, 08, 09, 10, 11, 1...           13   \n",
              "3                            [01, 02, 03, 04, 05, 06]            6   \n",
              "4                            [01, 02, 03, 04, 05, 06]            6   \n",
              "5            [01, 02, 03, 04, 05, 06, 07, 08, 09, 10]           10   \n",
              "6                                [01, 02, 03, 04, 05]            5   \n",
              "7                                                [01]            1   \n",
              "8                                [01, 02, 03, 04, 05]            5   \n",
              "9                            [01, 02, 03, 04, 05, 06]            6   \n",
              "10       [01, 02, 03, 04, 05, 06, 07, 08, 09, 10, 11]           11   \n",
              "11                           [01, 02, 03, 04, 05, 06]            6   \n",
              "\n",
              "    student_per_dept  student_per_dept_per_level  \n",
              "0              625.0                       156.0  \n",
              "1               87.0                        14.0  \n",
              "2              146.0                        24.0  \n",
              "3               85.0                        14.0  \n",
              "4             1150.0                       288.0  \n",
              "5              360.0                        72.0  \n",
              "6              260.0                        52.0  \n",
              "7             1900.0                       380.0  \n",
              "8              860.0                       215.0  \n",
              "9              150.0                        25.0  \n",
              "10             482.0                       120.0  \n",
              "11             600.0                       150.0  "
            ]
          },
          "execution_count": 46,
          "metadata": {},
          "output_type": "execute_result"
        }
      ],
      "source": [
        "import pandas as pd\n",
        "\n",
        "\n",
        "faculty_conditions = {\n",
        "                        'faculty': ['Arts', 'Basic Medical Sciences',\n",
        "                                    'Clincal Sciences', 'Dental Sciences',\n",
        "                                    'Education', 'Engineering',\n",
        "                                    'Environmental Sciences', 'Law',\n",
        "                                    'Management Sciences', 'Pharmacy',\n",
        "                                    'Science', 'Social Sciences'],\n",
        "                        'student_count': [3750, 520, 1900, 510, 6900, 3600,\n",
        "                                          1300, 1900, 4300, 900, 5300, 3600],\n",
        "                        'faculty_code': ['01', '09', '07', '10', '03', '04', '05', '06', '02', '12', '08', '11'],\n",
        "                        'levels': [4, 6, 6, 6, 4, 5, 5, 5, 4, 6, 4, 4]\n",
        "                        }\n",
        "\n",
        "department_codes ={\n",
        "            '01':['01', '02', '03', '04', '05', '06'],\n",
        "            '02':['01', '02', '03', '04', '05'],\n",
        "            '03':['01', '02', '03', '04', '05', '06'],\n",
        "            '04':['01', '02', '03', '04', '05', '06', '07', '08', '09', '10'],\n",
        "            '05':['01', '02', '03', '04', '05'],\n",
        "            '06':['01'],\n",
        "            '07':['01', '02', '03', '04', '05', '06', '07', '08', '09', '10', '11', '12','13'],\n",
        "            '08':['01', '02', '03', '04', '05', '06', '07', '08', '09', '10', '11'],\n",
        "            '09':['01', '02', '03', '04', '05', '06'],\n",
        "            '10':['01', '02', '03', '04', '05', '06'],\n",
        "            '11':['01', '02', '03', '04', '05', '06'],\n",
        "            '12':['01', '02', '03', '04', '05', '06']\n",
        "            }\n",
        "\n",
        "\n",
        "faculty_df = pd.DataFrame(faculty_conditions)\n",
        "faculty_df['dept_codes'] = faculty_df['faculty_code'].map(\n",
        "    department_codes)\n",
        "faculty_df['num_of_dept'] = faculty_df['dept_codes'].apply(lambda x: len(x))\n",
        "faculty_df['student_per_dept'] = round(faculty_df['student_count'] / faculty_df['num_of_dept'])\n",
        "faculty_df['student_per_dept_per_level'] = round(\n",
        "    faculty_df['student_per_dept']/faculty_df['levels'])\n",
        "faculty_df                                    "
      ]
    },
    {
      "attachments": {},
      "cell_type": "markdown",
      "metadata": {},
      "source": [
        "Generate emails for students based on criteria\n",
        "\n",
        "Format: \"AABBCCXXX@live.unilag.edu.ng\".\n",
        "\n",
        "Where AA=Admission year,\n",
        "    BB=Faculty code,\n",
        "    CC=Department code,\n",
        "    XXX=Student Serial Number\n"
      ]
    },
    {
      "cell_type": "code",
      "execution_count": 53,
      "metadata": {},
      "outputs": [
        {
          "data": {
            "text/plain": [
              "41794"
            ]
          },
          "execution_count": 53,
          "metadata": {},
          "output_type": "execute_result"
        }
      ],
      "source": [
        "emails = [f\"{year}{row['faculty_code']}{dept_code}{id}@live.unilag.edu.ng\"\n",
        "          for index, row in faculty_df.iterrows()\n",
        "          for dept_code in row['dept_codes']\n",
        "          for year in range(16, 17 + row['levels'])\n",
        "          for id in [f'{str(id).zfill(3)}' for id in range(1, int(row['student_per_dept_per_level']) + 1)] + ['501', '502', '503', '504', '505', '506', '507', '508', '509', '510', '511', '512']\n",
        "          if not (year == 16 and row['levels'] < 5)]\n",
        "len(emails)"
      ]
    },
    {
      "attachments": {},
      "cell_type": "markdown",
      "metadata": {},
      "source": [
        "Test"
      ]
    },
    {
      "cell_type": "code",
      "execution_count": 54,
      "metadata": {},
      "outputs": [
        {
          "data": {
            "text/plain": [
              "True"
            ]
          },
          "execution_count": 54,
          "metadata": {},
          "output_type": "execute_result"
        }
      ],
      "source": [
        "'170401007@live.unilag.edu.ng' in emails"
      ]
    },
    {
      "attachments": {},
      "cell_type": "markdown",
      "metadata": {},
      "source": [
        "## Classify emails\n",
        "Create a dataframe housing the emails and their respective faculties"
      ]
    },
    {
      "cell_type": "code",
      "execution_count": 56,
      "metadata": {},
      "outputs": [],
      "source": [
        "def classify_email(student_email):\n",
        "    faculty_codes = {\n",
        "        '01': 'Arts',\n",
        "        '02': 'Management Sciences',\n",
        "        '03': 'Education',\n",
        "        '04': 'Engineering',\n",
        "        '05': 'Environmental Sciences',\n",
        "        '06': 'Law',\n",
        "        '07': 'Clinical Sciences',\n",
        "        '08': 'Science',\n",
        "        '09': 'Basic Medical Sciences',\n",
        "        '10': 'Dental Sciences',\n",
        "        '11': 'Social Sciences',\n",
        "        '12': 'Pharmacy'\n",
        "    }\n",
        "    faculty_code = student_email[2:4]\n",
        "    return faculty_codes.get(faculty_code, 'unknown')\n"
      ]
    },
    {
      "attachments": {},
      "cell_type": "markdown",
      "metadata": {},
      "source": [
        "Verify whether distriution matches expected"
      ]
    },
    {
      "cell_type": "code",
      "execution_count": 57,
      "metadata": {},
      "outputs": [
        {
          "data": {
            "image/png": "[encoded data removed]",
            "text/plain": [
              "<Figure size 640x480 with 1 Axes>"
            ]
          },
          "metadata": {},
          "output_type": "display_data"
        }
      ],
      "source": [
        "email_df = pd.DataFrame(emails)\n",
        "email_df.columns = ['student_email']\n",
        "email_df['faculty'] = email_df['student_email'].apply(classify_email)\n",
        "\n",
        "email_df['faculty'].value_counts().plot(kind='barh', title='Count of Faculty in Generated Student Emails');"
      ]
    },
    {
      "attachments": {},
      "cell_type": "markdown",
      "metadata": {},
      "source": [
        "Create CSV of DataFrame"
      ]
    },
    {
      "cell_type": "code",
      "execution_count": 58,
      "metadata": {},
      "outputs": [],
      "source": [
        "email_df.to_csv('student_emails.csv', index=False)"
      ]
    }
  ],
  "metadata": {
    "colab": {
      "authorship_tag": "ABX9TyOEoQ48EziG6prXNdSbYNfw",
      "include_colab_link": true,
      "provenance": []
    },
    "kernelspec": {
      "display_name": "Python 3",
      "name": "python3"
    },
    "language_info": {
      "codemirror_mode": {
        "name": "ipython",
        "version": 3
      },
      "file_extension": ".py",
      "mimetype": "text/x-python",
      "name": "python",
      "nbconvert_exporter": "python",
      "pygments_lexer": "ipython3",
      "version": "3.10.5"
    }
  },
  "nbformat": 4,
  "nbformat_minor": 0
}
