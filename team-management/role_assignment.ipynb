{
 "cells": [
  {
   "attachments": {},
   "cell_type": "markdown",
   "metadata": {},
   "source": [
    "This program assigns roles to team members for the project. \n",
    "\n",
    "Conditions:\n",
    "1. Team will rotate team roles in \"cycles\".\n",
    "2. The length of each cycle may be two weeks or more, as determined by the team.\n",
    "3. Each role has an expert who will guide the team members assigned to the role. \n",
    "4. Each team member may be assigned to more than one role at any given time. \n",
    "5. No team members, besides the experts, will be assigned to the same role in two consecutive cycles. \n",
    "6. Experts may be assigned to other roles just like any other team member. "
   ]
  },
  {
   "cell_type": "code",
   "execution_count": 114,
   "metadata": {},
   "outputs": [],
   "source": [
    "import pandas as pd\n",
    "import numpy as np\n",
    "import random\n",
    "random.seed(42)"
   ]
  },
  {
   "attachments": {},
   "cell_type": "markdown",
   "metadata": {},
   "source": [
    "Instantiate list of members"
   ]
  },
  {
   "cell_type": "code",
   "execution_count": 115,
   "metadata": {},
   "outputs": [
    {
     "data": {
      "text/plain": [
       "['Oluwaseyi Adaramola',\n",
       " 'Farook Ajose',\n",
       " 'Malik Akintola',\n",
       " 'Ibukun Akinleye',\n",
       " 'Samson Ilesanmi',\n",
       " 'Oluwaseunfunmi Alarima',\n",
       " 'Damilola Omokehinde',\n",
       " 'Samuel Olayiwola',\n",
       " 'Adejuwon Adegite',\n",
       " 'Kafilat Akinyemi',\n",
       " 'Chibike Enibe',\n",
       " 'Ayodeji Abatan',\n",
       " 'Divine Nkwocha',\n",
       " 'AbdulQahhar Okenla']"
      ]
     },
     "execution_count": 115,
     "metadata": {},
     "output_type": "execute_result"
    }
   ],
   "source": [
    "members = [\n",
    "            \"Oluwaseyi Adaramola\",\n",
    "            \"Farook Ajose\",\n",
    "            \"Malik Akintola\",\n",
    "            \"Ibukun Akinleye\",\n",
    "            \"Samson Ilesanmi\",\n",
    "            \"Oluwaseunfunmi Alarima\",\n",
    "            \"Damilola Omokehinde\",\n",
    "            \"Samuel Olayiwola\",\n",
    "            \"Adejuwon Adegite\",\n",
    "            \"Kafilat Akinyemi\",\n",
    "            \"Chibike Enibe\",\n",
    "            \"Ayodeji Abatan\",\n",
    "            \"Divine Nkwocha\",\n",
    "            \"AbdulQahhar Okenla\",\n",
    "        ]\n",
    "\n",
    "members"
   ]
  },
  {
   "attachments": {},
   "cell_type": "markdown",
   "metadata": {},
   "source": [
    "Instantiate available roles"
   ]
  },
  {
   "cell_type": "code",
   "execution_count": 116,
   "metadata": {},
   "outputs": [
    {
     "data": {
      "text/html": [
       "<div>\n",
       "<style scoped>\n",
       "    .dataframe tbody tr th:only-of-type {\n",
       "        vertical-align: middle;\n",
       "    }\n",
       "\n",
       "    .dataframe tbody tr th {\n",
       "        vertical-align: top;\n",
       "    }\n",
       "\n",
       "    .dataframe thead th {\n",
       "        text-align: right;\n",
       "    }\n",
       "</style>\n",
       "<table border=\"1\" class=\"dataframe\">\n",
       "  <thead>\n",
       "    <tr style=\"text-align: right;\">\n",
       "      <th></th>\n",
       "      <th>role</th>\n",
       "      <th>num_people</th>\n",
       "      <th>expert</th>\n",
       "    </tr>\n",
       "  </thead>\n",
       "  <tbody>\n",
       "    <tr>\n",
       "      <th>0</th>\n",
       "      <td>Data Analyst (Python)</td>\n",
       "      <td>4</td>\n",
       "      <td>Malik Akintola</td>\n",
       "    </tr>\n",
       "    <tr>\n",
       "      <th>1</th>\n",
       "      <td>Data Scientist/Statistician</td>\n",
       "      <td>4</td>\n",
       "      <td>Ayodeji Abatan</td>\n",
       "    </tr>\n",
       "    <tr>\n",
       "      <th>2</th>\n",
       "      <td>Visualization Specialist (Power BI)</td>\n",
       "      <td>4</td>\n",
       "      <td>Samson Ilesanmi</td>\n",
       "    </tr>\n",
       "    <tr>\n",
       "      <th>3</th>\n",
       "      <td>Technical Writer</td>\n",
       "      <td>4</td>\n",
       "      <td>Farook Ajose</td>\n",
       "    </tr>\n",
       "    <tr>\n",
       "      <th>4</th>\n",
       "      <td>Publicity Coordinator</td>\n",
       "      <td>3</td>\n",
       "      <td>AbdulQahhar Okenla</td>\n",
       "    </tr>\n",
       "  </tbody>\n",
       "</table>\n",
       "</div>"
      ],
      "text/plain": [
       "                                  role  num_people              expert\n",
       "0                Data Analyst (Python)           4      Malik Akintola\n",
       "1          Data Scientist/Statistician           4      Ayodeji Abatan\n",
       "2  Visualization Specialist (Power BI)           4     Samson Ilesanmi\n",
       "3                     Technical Writer           4        Farook Ajose\n",
       "4                Publicity Coordinator           3  AbdulQahhar Okenla"
      ]
     },
     "execution_count": 116,
     "metadata": {},
     "output_type": "execute_result"
    }
   ],
   "source": [
    "roles = pd.DataFrame({\n",
    "    \"role\": [\"Data Analyst (Python)\",\n",
    "            \"Data Scientist/Statistician\",\n",
    "            \"Visualization Specialist (Power BI)\",\n",
    "            \"Technical Writer\",\n",
    "            \"Publicity Coordinator\",],\n",
    "    \"num_people\": [4, 4, 4, 4, 3],\n",
    "    \"expert\": [\"Malik Akintola\",\n",
    "               \"Ayodeji Abatan\",\n",
    "               \"Samson Ilesanmi\",\n",
    "               \"Farook Ajose\",\n",
    "               \"AbdulQahhar Okenla\"]\n",
    "    })\n",
    "roles"
   ]
  },
  {
   "attachments": {},
   "cell_type": "markdown",
   "metadata": {},
   "source": [
    "Write function to assign roles"
   ]
  },
  {
   "cell_type": "code",
   "execution_count": 117,
   "metadata": {},
   "outputs": [
    {
     "data": {
      "text/plain": [
       "{'Cycle 1': 'Samson Ilesanmi, Oluwaseunfunmi Alarima, Chibike Enibe, Oluwaseyi Adaramola',\n",
       " 'Cycle 2': 'Samson Ilesanmi, Divine Nkwocha, Kafilat Akinyemi, Oluwaseunfunmi Alarima',\n",
       " 'Cycle 3': 'Samson Ilesanmi, Chibike Enibe, Adejuwon Adegite, Farook Ajose',\n",
       " 'Cycle 4': 'Samson Ilesanmi, AbdulQahhar Okenla, Oluwaseunfunmi Alarima, Malik Akintola',\n",
       " 'Cycle 5': 'Samson Ilesanmi, Adejuwon Adegite, Oluwaseyi Adaramola, Farook Ajose',\n",
       " 'Cycle 6': 'Samson Ilesanmi, AbdulQahhar Okenla, Damilola Omokehinde, Ibukun Akinleye'}"
      ]
     },
     "execution_count": 117,
     "metadata": {},
     "output_type": "execute_result"
    }
   ],
   "source": [
    "num_cycles = 6\n",
    "\n",
    "def assign_roles(row, cycles=num_cycles, team=members):\n",
    "    \"\"\"Assign team members to different roles for each rotation cycle, ensuring that an expert in the area is present to guide them. \n",
    "\n",
    "    Args:\n",
    "        row (pandas.Series): A row of the `roles` dataframe containing the role details.\n",
    "        cycles (int, optional): Number of rotation cycles to assign the roles for. Defaults to the value of `num_cycles`.\n",
    "        team (list, optional): A list of team members to select from. Defaults to the value of `members`.\n",
    "\n",
    "    Returns:\n",
    "        expert_cycle_dict (dict): A dictionary containing the assigned members for each cycle, with keys in the format \"Cycle x\" where x is the cycle number.\n",
    "    \"\"\"\n",
    "    \n",
    "    # Remove expert from sample list \n",
    "    expert = row['expert']\n",
    "    no_expert_team = team.copy()\n",
    "    no_expert_team.remove(expert)\n",
    "\n",
    "    # Create dictionary of assigned members for each cycle\n",
    "    cycle_dict = {\n",
    "        f\"Cycle {cycle}\":  np.random.choice(no_expert_team, size=row[\"num_people\"]-1, replace=False)\n",
    "        for cycle in range(1, cycles+1)\n",
    "    }\n",
    "    \n",
    "    # Remove common values between consecutive cycles\n",
    "    for i in range(1, cycles):\n",
    "        current_cycle = cycle_dict[f\"Cycle {i}\"]\n",
    "        next_cycle = cycle_dict[f\"Cycle {i+1}\"]\n",
    "        common_members = np.intersect1d(current_cycle, next_cycle)\n",
    "        for member in common_members:\n",
    "            new_member = np.random.choice(no_expert_team, size=1)[0]\n",
    "            while new_member in next_cycle:\n",
    "                new_member = np.random.choice(no_expert_team, size=1)[0]\n",
    "            next_cycle = np.where(next_cycle == member, new_member, next_cycle)\n",
    "        cycle_dict[f\"Cycle {i+1}\"] = next_cycle\n",
    "        \n",
    "    # Append expert to list and convert to string    \n",
    "    expert_cycle_dict = {\n",
    "        f\"Cycle {cycle}\":  \", \".join(np.append(expert, cycle_dict[f\"Cycle {cycle}\"]))\n",
    "        for cycle in range(1, cycles+1)\n",
    "    }\n",
    "\n",
    "    return expert_cycle_dict\n",
    "        \n",
    "# Test function to see outputs.     \n",
    "assign_roles(roles.iloc[2, :])"
   ]
  },
  {
   "attachments": {},
   "cell_type": "markdown",
   "metadata": {},
   "source": [
    "Update dataframe with function"
   ]
  },
  {
   "cell_type": "code",
   "execution_count": 118,
   "metadata": {},
   "outputs": [
    {
     "data": {
      "text/html": [
       "<div>\n",
       "<style scoped>\n",
       "    .dataframe tbody tr th:only-of-type {\n",
       "        vertical-align: middle;\n",
       "    }\n",
       "\n",
       "    .dataframe tbody tr th {\n",
       "        vertical-align: top;\n",
       "    }\n",
       "\n",
       "    .dataframe thead th {\n",
       "        text-align: right;\n",
       "    }\n",
       "</style>\n",
       "<table border=\"1\" class=\"dataframe\">\n",
       "  <thead>\n",
       "    <tr style=\"text-align: right;\">\n",
       "      <th></th>\n",
       "      <th>role</th>\n",
       "      <th>num_people</th>\n",
       "      <th>expert</th>\n",
       "      <th>Cycle 1</th>\n",
       "      <th>Cycle 2</th>\n",
       "      <th>Cycle 3</th>\n",
       "      <th>Cycle 4</th>\n",
       "      <th>Cycle 5</th>\n",
       "      <th>Cycle 6</th>\n",
       "    </tr>\n",
       "  </thead>\n",
       "  <tbody>\n",
       "    <tr>\n",
       "      <th>0</th>\n",
       "      <td>Data Analyst (Python)</td>\n",
       "      <td>4</td>\n",
       "      <td>Malik Akintola</td>\n",
       "      <td>Malik Akintola, Kafilat Akinyemi, Adejuwon Ade...</td>\n",
       "      <td>Malik Akintola, Samson Ilesanmi, Farook Ajose,...</td>\n",
       "      <td>Malik Akintola, Divine Nkwocha, Chibike Enibe,...</td>\n",
       "      <td>Malik Akintola, Samuel Olayiwola, Adejuwon Ade...</td>\n",
       "      <td>Malik Akintola, Oluwaseyi Adaramola, Ayodeji A...</td>\n",
       "      <td>Malik Akintola, Chibike Enibe, Samson Ilesanmi...</td>\n",
       "    </tr>\n",
       "    <tr>\n",
       "      <th>1</th>\n",
       "      <td>Data Scientist/Statistician</td>\n",
       "      <td>4</td>\n",
       "      <td>Ayodeji Abatan</td>\n",
       "      <td>Ayodeji Abatan, Samuel Olayiwola, AbdulQahhar ...</td>\n",
       "      <td>Ayodeji Abatan, Samson Ilesanmi, Farook Ajose,...</td>\n",
       "      <td>Ayodeji Abatan, Damilola Omokehinde, AbdulQahh...</td>\n",
       "      <td>Ayodeji Abatan, Samuel Olayiwola, Oluwaseunfun...</td>\n",
       "      <td>Ayodeji Abatan, Malik Akintola, AbdulQahhar Ok...</td>\n",
       "      <td>Ayodeji Abatan, Samson Ilesanmi, Malik Akintol...</td>\n",
       "    </tr>\n",
       "    <tr>\n",
       "      <th>2</th>\n",
       "      <td>Visualization Specialist (Power BI)</td>\n",
       "      <td>4</td>\n",
       "      <td>Samson Ilesanmi</td>\n",
       "      <td>Samson Ilesanmi, AbdulQahhar Okenla, Malik Aki...</td>\n",
       "      <td>Samson Ilesanmi, Oluwaseunfunmi Alarima, Samue...</td>\n",
       "      <td>Samson Ilesanmi, Samuel Olayiwola, Chibike Eni...</td>\n",
       "      <td>Samson Ilesanmi, Kafilat Akinyemi, Oluwaseyi A...</td>\n",
       "      <td>Samson Ilesanmi, Ayodeji Abatan, Ibukun Akinle...</td>\n",
       "      <td>Samson Ilesanmi, Damilola Omokehinde, Divine N...</td>\n",
       "    </tr>\n",
       "    <tr>\n",
       "      <th>3</th>\n",
       "      <td>Technical Writer</td>\n",
       "      <td>4</td>\n",
       "      <td>Farook Ajose</td>\n",
       "      <td>Farook Ajose, Divine Nkwocha, Oluwaseunfunmi A...</td>\n",
       "      <td>Farook Ajose, Malik Akintola, Damilola Omokehi...</td>\n",
       "      <td>Farook Ajose, Oluwaseyi Adaramola, Divine Nkwo...</td>\n",
       "      <td>Farook Ajose, Samson Ilesanmi, Ibukun Akinleye...</td>\n",
       "      <td>Farook Ajose, Divine Nkwocha, Malik Akintola, ...</td>\n",
       "      <td>Farook Ajose, Ayodeji Abatan, Samson Ilesanmi,...</td>\n",
       "    </tr>\n",
       "    <tr>\n",
       "      <th>4</th>\n",
       "      <td>Publicity Coordinator</td>\n",
       "      <td>3</td>\n",
       "      <td>AbdulQahhar Okenla</td>\n",
       "      <td>AbdulQahhar Okenla, Malik Akintola, Oluwaseunf...</td>\n",
       "      <td>AbdulQahhar Okenla, Kafilat Akinyemi, Ayodeji ...</td>\n",
       "      <td>AbdulQahhar Okenla, Adejuwon Adegite, Malik Ak...</td>\n",
       "      <td>AbdulQahhar Okenla, Oluwaseyi Adaramola, Ayode...</td>\n",
       "      <td>AbdulQahhar Okenla, Damilola Omokehinde, Faroo...</td>\n",
       "      <td>AbdulQahhar Okenla, Divine Nkwocha, Adejuwon A...</td>\n",
       "    </tr>\n",
       "  </tbody>\n",
       "</table>\n",
       "</div>"
      ],
      "text/plain": [
       "                                  role  num_people              expert  \\\n",
       "0                Data Analyst (Python)           4      Malik Akintola   \n",
       "1          Data Scientist/Statistician           4      Ayodeji Abatan   \n",
       "2  Visualization Specialist (Power BI)           4     Samson Ilesanmi   \n",
       "3                     Technical Writer           4        Farook Ajose   \n",
       "4                Publicity Coordinator           3  AbdulQahhar Okenla   \n",
       "\n",
       "                                             Cycle 1  \\\n",
       "0  Malik Akintola, Kafilat Akinyemi, Adejuwon Ade...   \n",
       "1  Ayodeji Abatan, Samuel Olayiwola, AbdulQahhar ...   \n",
       "2  Samson Ilesanmi, AbdulQahhar Okenla, Malik Aki...   \n",
       "3  Farook Ajose, Divine Nkwocha, Oluwaseunfunmi A...   \n",
       "4  AbdulQahhar Okenla, Malik Akintola, Oluwaseunf...   \n",
       "\n",
       "                                             Cycle 2  \\\n",
       "0  Malik Akintola, Samson Ilesanmi, Farook Ajose,...   \n",
       "1  Ayodeji Abatan, Samson Ilesanmi, Farook Ajose,...   \n",
       "2  Samson Ilesanmi, Oluwaseunfunmi Alarima, Samue...   \n",
       "3  Farook Ajose, Malik Akintola, Damilola Omokehi...   \n",
       "4  AbdulQahhar Okenla, Kafilat Akinyemi, Ayodeji ...   \n",
       "\n",
       "                                             Cycle 3  \\\n",
       "0  Malik Akintola, Divine Nkwocha, Chibike Enibe,...   \n",
       "1  Ayodeji Abatan, Damilola Omokehinde, AbdulQahh...   \n",
       "2  Samson Ilesanmi, Samuel Olayiwola, Chibike Eni...   \n",
       "3  Farook Ajose, Oluwaseyi Adaramola, Divine Nkwo...   \n",
       "4  AbdulQahhar Okenla, Adejuwon Adegite, Malik Ak...   \n",
       "\n",
       "                                             Cycle 4  \\\n",
       "0  Malik Akintola, Samuel Olayiwola, Adejuwon Ade...   \n",
       "1  Ayodeji Abatan, Samuel Olayiwola, Oluwaseunfun...   \n",
       "2  Samson Ilesanmi, Kafilat Akinyemi, Oluwaseyi A...   \n",
       "3  Farook Ajose, Samson Ilesanmi, Ibukun Akinleye...   \n",
       "4  AbdulQahhar Okenla, Oluwaseyi Adaramola, Ayode...   \n",
       "\n",
       "                                             Cycle 5  \\\n",
       "0  Malik Akintola, Oluwaseyi Adaramola, Ayodeji A...   \n",
       "1  Ayodeji Abatan, Malik Akintola, AbdulQahhar Ok...   \n",
       "2  Samson Ilesanmi, Ayodeji Abatan, Ibukun Akinle...   \n",
       "3  Farook Ajose, Divine Nkwocha, Malik Akintola, ...   \n",
       "4  AbdulQahhar Okenla, Damilola Omokehinde, Faroo...   \n",
       "\n",
       "                                             Cycle 6  \n",
       "0  Malik Akintola, Chibike Enibe, Samson Ilesanmi...  \n",
       "1  Ayodeji Abatan, Samson Ilesanmi, Malik Akintol...  \n",
       "2  Samson Ilesanmi, Damilola Omokehinde, Divine N...  \n",
       "3  Farook Ajose, Ayodeji Abatan, Samson Ilesanmi,...  \n",
       "4  AbdulQahhar Okenla, Divine Nkwocha, Adejuwon A...  "
      ]
     },
     "execution_count": 118,
     "metadata": {},
     "output_type": "execute_result"
    }
   ],
   "source": [
    "\n",
    "roles[[f\"Cycle {cycle}\" for cycle in range(1, num_cycles+1)]] = roles.apply(func=assign_roles, axis=1, result_type='expand')\n",
    "roles"
   ]
  },
  {
   "attachments": {},
   "cell_type": "markdown",
   "metadata": {},
   "source": [
    "Save dataframe to CSV"
   ]
  },
  {
   "cell_type": "code",
   "execution_count": 119,
   "metadata": {},
   "outputs": [],
   "source": [
    "# roles.to_csv(\"assigned_roles.csv\", index=False)"
   ]
  }
 ],
 "metadata": {
  "kernelspec": {
   "display_name": "Python 3",
   "language": "python",
   "name": "python3"
  },
  "language_info": {
   "codemirror_mode": {
    "name": "ipython",
    "version": 3
   },
   "file_extension": ".py",
   "mimetype": "text/x-python",
   "name": "python",
   "nbconvert_exporter": "python",
   "pygments_lexer": "ipython3",
   "version": "3.10.5"
  },
  "orig_nbformat": 4
 },
 "nbformat": 4,
 "nbformat_minor": 2
}
