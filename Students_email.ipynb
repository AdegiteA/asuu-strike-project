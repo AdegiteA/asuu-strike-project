{
  "nbformat": 4,
  "nbformat_minor": 0,
  "metadata": {
    "colab": {
      "provenance": [],
      "authorship_tag": "ABX9TyOEoQ48EziG6prXNdSbYNfw",
      "include_colab_link": true
    },
    "kernelspec": {
      "name": "python3",
      "display_name": "Python 3"
    },
    "language_info": {
      "name": "python"
    }
  },
  "cells": [
    {
      "cell_type": "markdown",
      "metadata": {
        "id": "view-in-github",
        "colab_type": "text"
      },
      "source": [
        "<a href=\"https://colab.research.google.com/github/socratesjnr/asuu-strike-project/blob/main/Students_email.ipynb\" target=\"_parent\"><img src=\"https://colab.research.google.com/assets/colab-badge.svg\" alt=\"Open In Colab\"/></a>"
      ]
    },
    {
      "cell_type": "markdown",
      "source": [
        "This code block generates a csv file containing a generated list of student emails for Unilag students                   "
      ],
      "metadata": {
        "id": "cReemJ3f2M7_"
      }
    },
    {
      "cell_type": "code",
      "source": [
        "import csv\n",
        "\n",
        "conditions={'01':['01', '02', '03', '04', '05', '06'],\n",
        "            '02':['01', '02', '03', '04', '05'],\n",
        "            '03':['01', '02', '03', '04', '05', '06'],\n",
        "            '04':['01', '02', '03', '04', '05', '06', '07', '08', '09', '10'],\n",
        "            '05':['01', '02', '03', '04', '05'],\n",
        "            '06':['01'],\n",
        "            '07':['01', '02', '03', '04', '05', '06', '07', '08', '09', '10', '11', '12','13'],\n",
        "            '08':['01', '02', '03', '04', '05', '06', '07', '08', '09', '10', '11'],\n",
        "            '09':['01', '02', '03', '04', '05', '06'],\n",
        "            '10':['01', '02', '03', '04', '05', '06'],\n",
        "            '11':['01', '02', '03', '04', '05', '06'],\n",
        "            '12':['01', '02', '03', '04', '05', '06']}\n",
        "\n",
        "ids=[f'{str(id).zfill(3)}' for id in range(1,61)]\n",
        "for no in ['501','502','503','504','505','506','507','508','509','510','511','512']:\n",
        "  ids.append(no)                                       \n",
        "\n",
        "emails = [f'{year}{faculty}{department}{id}@live.unilag.edu.ng'\n",
        "            for year in range(15,22)\n",
        "            for faculty in conditions\n",
        "            for department in conditions[faculty]\n",
        "            for id in ids]                                       "
      ],
      "metadata": {
        "id": "A_uezjrkVD_x"
      },
      "execution_count": 23,
      "outputs": []
    },
    {
      "cell_type": "code",
      "source": [
        "art_emails=[email for email in emails if email[2:4] == '01']\n",
        "mgt_sci_emails=[email for email in emails if email[2:4] == '02']                                 \n",
        "edu_emails=[email for email in emails if email[2:4] == '03']                                 \n",
        "eng_emails=[email for email in emails if email[2:4] == '04']                                 \n",
        "env_sci_emails=[email for email in emails if email[2:4] == '05']                                 \n",
        "law_emails=[email for email in emails if email[2:4] == '06']                                 \n",
        "clin_emails=[email for email in emails if email[2:4] == '07']                                 \n",
        "sci_emails=[email for email in emails if email[2:4] == '08']                                 \n",
        "med_emails=[email for email in emails if email[2:4] == '09']                                 \n",
        "dent_emails=[email for email in emails if email[2:4] == '10']                                 \n",
        "soc_sci_emails=[email for email in emails if email[2:4] == '11']                                 \n",
        "pharma_emails=[email for email in emails if email[2:4] == '12']\n",
        "\n",
        "faculty=[art_emails,mgt_sci_emails,edu_emails,eng_emails,env_sci_emails,law_emails,\n",
        "         clin_emails,sci_emails,med_emails,dent_emails,soc_sci_emails,pharma_emails]\n",
        "\n",
        "with open('student_emails.csv', 'w', newline='') as file:\n",
        "  writer = csv.writer(file)\n",
        "  for email in faculty:\n",
        "    writer.writerow(email)                                                                  "
      ],
      "metadata": {
        "id": "GsaDp7cD4LXX"
      },
      "execution_count": 24,
      "outputs": []
    },
    {
      "cell_type": "code",
      "source": [
        "print('191105036@live.unilag.edu.ng' in emails)                                       "
      ],
      "metadata": {
        "colab": {
          "base_uri": "https://localhost:8080/"
        },
        "id": "dcvF8ytQ2xpn",
        "outputId": "18b44f6b-bd03-4abe-f3c2-1e3fc3c25b2b"
      },
      "execution_count": 25,
      "outputs": [
        {
          "output_type": "stream",
          "name": "stdout",
          "text": [
            "True\n"
          ]
        }
      ]
    }
  ]
}